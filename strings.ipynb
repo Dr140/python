{
 "cells": [
  {
   "cell_type": "code",
   "execution_count": 1,
   "id": "d5dd550f-5401-41ec-9c15-bdc0e15193e9",
   "metadata": {},
   "outputs": [
    {
     "name": "stdout",
     "output_type": "stream",
     "text": [
      "dinesh\n",
      "nellore\n",
      "dinesh\n",
      "nellore\n"
     ]
    }
   ],
   "source": [
    "#string is a sequence of characters\n",
    "str_1=\"dinesh\"\n",
    "str_2='nellore'\n",
    "multiline_str1=\"\"\"dinesh\"\"\"\n",
    "multiline_str2='''nellore'''\n",
    "print(str_1)\n",
    "print(str_2)\n",
    "print(multiline_str1)\n",
    "print(multiline_str2)\n"
   ]
  },
  {
   "cell_type": "code",
   "execution_count": 3,
   "id": "a53474b5-b822-4b9c-adfd-0452be412c0d",
   "metadata": {},
   "outputs": [
    {
     "name": "stdout",
     "output_type": "stream",
     "text": [
      "Hello\n",
      "World\n",
      "Python3\n",
      "Technology\n",
      "Android 11.01\n",
      "WINDOWS 12\n",
      "Google\n",
      "Microsoft\n",
      "Genpact\n",
      "chars!@#$%^&*()\n"
     ]
    }
   ],
   "source": [
    "#String operations\n",
    "str1 = \"Hello\"\n",
    "str2 = \"World\"\n",
    "str3 = \"Python3\"\n",
    "str4 = \"Technology\"\n",
    "str5 = \"Android 11.01\"\n",
    "str6 = \"WINDOWS 12\"\n",
    "str7 = \"Google\"\n",
    "str8 = \"Microsoft\"\n",
    "str9 = \"Genpact\"\n",
    "str10 = \"chars!@#$%^&*()\"\n",
    "print(str1)\n",
    "print(str2)\n",
    "print(str3)\n",
    "print(str4)\n",
    "print(str5)\n",
    "print(str6)\n",
    "print(str7)\n",
    "print(str8)\n",
    "print(str9)\n",
    "print(str10)"
   ]
  },
  {
   "cell_type": "code",
   "execution_count": 5,
   "id": "2cb9be52-7075-4d75-ba54-2005da049caa",
   "metadata": {},
   "outputs": [
    {
     "name": "stdout",
     "output_type": "stream",
     "text": [
      "Hello World\n",
      "Python3 Technology\n",
      "Android 11.01 WINDOWS 12\n",
      "Google Microsoft\n",
      "Genpact chars!@#$%^&*()\n"
     ]
    }
   ],
   "source": [
    "#Concatenation\n",
    "print(str1 +\" \"+ str2)\n",
    "print(str3 +\" \"+ str4)\n",
    "print(str5 +\" \"+ str6)\n",
    "print(str7 +\" \"+ str8)\n",
    "print(str9 +\" \"+ str10)"
   ]
  },
  {
   "cell_type": "code",
   "execution_count": 7,
   "id": "fdd21d5f-1a05-47ef-85cd-e8150b24215a",
   "metadata": {},
   "outputs": [
    {
     "name": "stdout",
     "output_type": "stream",
     "text": [
      "Microsoft Microsoft Microsoft Microsoft Microsoft Microsoft Microsoft Microsoft \n"
     ]
    }
   ],
   "source": [
    "#Repition\n",
    "print((str8 +\" \") * 8)"
   ]
  },
  {
   "cell_type": "code",
   "execution_count": 9,
   "id": "30d06a9e-39fc-4887-96f1-7d744c5c5f1a",
   "metadata": {},
   "outputs": [
    {
     "name": "stdout",
     "output_type": "stream",
     "text": [
      "r\n",
      "1\n"
     ]
    }
   ],
   "source": [
    "#Indexing\n",
    "print(str5[3])\n",
    "print(str5[-1])"
   ]
  },
  {
   "cell_type": "code",
   "execution_count": 15,
   "id": "e35faad6-9292-46fc-9a53-8c560779f80d",
   "metadata": {},
   "outputs": [
    {
     "name": "stdout",
     "output_type": "stream",
     "text": [
      "hn\n",
      " My name is Dinesh and I am 22 years old.\n"
     ]
    }
   ],
   "source": [
    "# Slicing\n",
    "substr = str4[3:5]\n",
    "print(substr)\n",
    "#FORMAT STRINGS\n",
    "#Python 1\n",
    "name = \"Dinesh\"\n",
    "age = 22\n",
    "format_string = \" My name is %s and I am %d years old.\" %(name,age)\n",
    "print(format_string)"
   ]
  },
  {
   "cell_type": "code",
   "execution_count": 17,
   "id": "32ff3e7f-8b51-4817-b104-109e7fd3913a",
   "metadata": {},
   "outputs": [
    {
     "name": "stdout",
     "output_type": "stream",
     "text": [
      "10\n"
     ]
    }
   ],
   "source": [
    "#String methods\n",
    "#len()\n",
    "str1 = \"Hello\"\n",
    "str2 = \"World\"\n",
    "str3 = \"Python3\"\n",
    "str4 = \"Technology\"\n",
    "str5 = \"Android 11.01\"\n",
    "str6 = \"WINDOWS 12\"\n",
    "str7 = \"Google\"\n",
    "str8 = \"Microsoft\"\n",
    "str9 = \"Genpact\"\n",
    "str10 = \"chars!@#$%^&*()\"\n",
    "length_str4 = len(str4)\n",
    "print(length_str4)"
   ]
  },
  {
   "cell_type": "code",
   "execution_count": 19,
   "id": "afa46881-8fd3-4144-9ef2-0fa186091741",
   "metadata": {},
   "outputs": [
    {
     "name": "stdout",
     "output_type": "stream",
     "text": [
      "hello\n",
      "CHARS!@#$%^&*()\n",
      "GENPACT\n",
      "windows 12\n"
     ]
    }
   ],
   "source": [
    "#lower/upper\n",
    "print(str1.lower())\n",
    "print(str10.upper())\n",
    "print(str9.upper())\n",
    "print(str6.lower())"
   ]
  },
  {
   "cell_type": "code",
   "execution_count": 21,
   "id": "f2927982-7d7f-4abd-b601-0a621afb126b",
   "metadata": {},
   "outputs": [
    {
     "name": "stdout",
     "output_type": "stream",
     "text": [
      "   hello    \n",
      "         World       \n",
      "    Python 3    \n",
      "\tTechnology\n",
      "  Android 11.01\n",
      "hello\n",
      "World\n",
      "Python 3\n",
      "Technology\n",
      "Android 11.01\n"
     ]
    }
   ],
   "source": [
    "#Strip\n",
    "str1 = \"   hello    \"\n",
    "str2 = \"         World       \"\n",
    "str3 = \"    Python 3    \" # evaluates spaces only at the beginning and at the end of a string \n",
    "str4 = \"\\tTechnology\" #evaluates tab also\n",
    "str5 = \"  Android 11.01\" # evaluates spaces only at the beginning and at the end of a string \n",
    "print(str1)\n",
    "print(str2)\n",
    "print(str3)\n",
    "print(str4)\n",
    "print(str5)\n",
    "#strip()\n",
    "print(str1.strip())\n",
    "print(str2.strip())\n",
    "print(str3.strip())\n",
    "print(str4.strip())\n",
    "print(str5.strip())"
   ]
  },
  {
   "cell_type": "code",
   "execution_count": null,
   "id": "1c777573-6ef3-446c-ae15-0b66d97dc9dc",
   "metadata": {},
   "outputs": [],
   "source": []
  }
 ],
 "metadata": {
  "kernelspec": {
   "display_name": "Python 3 (ipykernel)",
   "language": "python",
   "name": "python3"
  },
  "language_info": {
   "codemirror_mode": {
    "name": "ipython",
    "version": 3
   },
   "file_extension": ".py",
   "mimetype": "text/x-python",
   "name": "python",
   "nbconvert_exporter": "python",
   "pygments_lexer": "ipython3",
   "version": "3.12.4"
  }
 },
 "nbformat": 4,
 "nbformat_minor": 5
}
