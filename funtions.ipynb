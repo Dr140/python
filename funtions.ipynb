{
 "cells": [
  {
   "cell_type": "code",
   "execution_count": 20,
   "id": "547e19b2-c8e5-484c-91e3-47fe2be02d5f",
   "metadata": {},
   "outputs": [
    {
     "name": "stdin",
     "output_type": "stream",
     "text": [
      " man\n"
     ]
    },
    {
     "name": "stdout",
     "output_type": "stream",
     "text": [
      "Not a palindrome\n"
     ]
    }
   ],
   "source": [
    "#palindrome\n",
    "def ispalindrome(D):\n",
    "  if D==D[::-1]:\n",
    "    print \"Palindrome\"\n",
    "  else:\n",
    "      print \"Not a palindrome\"\n",
    "D=input()\n",
    "print(ispalindrome(D))"
   ]
  },
  {
   "cell_type": "code",
   "execution_count": 44,
   "id": "65e0960a-24ed-409a-b0eb-4799ce36b5a5",
   "metadata": {},
   "outputs": [
    {
     "name": "stdin",
     "output_type": "stream",
     "text": [
      " 8\n"
     ]
    },
    {
     "name": "stdout",
     "output_type": "stream",
     "text": [
      "40320\n"
     ]
    }
   ],
   "source": [
    "#factorial\n",
    "def factorial(n):\n",
    "  fact=1\n",
    "  for i in range (1,n+1):\n",
    "    fact*=i\n",
    "  return fact\n",
    "n=int(input())\n",
    "print(factorial(n))"
   ]
  },
  {
   "cell_type": "code",
   "execution_count": 73,
   "id": "4ca642a8-72a4-4058-b451-fc6b3c672a93",
   "metadata": {},
   "outputs": [
    {
     "name": "stdin",
     "output_type": "stream",
     "text": [
      " 3 4 5 6 6 7\n"
     ]
    },
    {
     "name": "stdout",
     "output_type": "stream",
     "text": [
      "7\n"
     ]
    }
   ],
   "source": [
    "#largest number\n",
    "def largest_element(l):\n",
    "  return max(l)\n",
    "l=list(map(int,input().split()))\n",
    "print(largest_element(l))"
   ]
  },
  {
   "cell_type": "code",
   "execution_count": 87,
   "id": "ee1ca652-d486-4295-b365-2f8d72f25b50",
   "metadata": {},
   "outputs": [
    {
     "name": "stdin",
     "output_type": "stream",
     "text": [
      " apple\n"
     ]
    },
    {
     "name": "stdout",
     "output_type": "stream",
     "text": [
      "elppa\n"
     ]
    }
   ],
   "source": [
    "#reverse string\n",
    "def reversed(s):\n",
    "  return s[::-1]\n",
    "s=input()\n",
    "print(reversed(s))"
   ]
  },
  {
   "cell_type": "code",
   "execution_count": 91,
   "id": "d9b4ba3d-c62a-46af-a75e-088540dcc018",
   "metadata": {},
   "outputs": [
    {
     "name": "stdin",
     "output_type": "stream",
     "text": [
      " 6 6 7 6 3 3 2 5 6 3 \n"
     ]
    },
    {
     "name": "stdout",
     "output_type": "stream",
     "text": [
      "{6: 4, 7: 1, 3: 3, 2: 1, 5: 1}\n"
     ]
    }
   ],
   "source": [
    "#frequency count\n",
    "def freq(c):\n",
    "  d={}\n",
    "  for i in c:\n",
    "     if i in d:\n",
    "        d[i] += 1\n",
    "     else:\n",
    "        d[i] = 1\n",
    "  return d\n",
    "l = list(map(int,input().split()))\n",
    "print(freq(c))"
   ]
  },
  {
   "cell_type": "code",
   "execution_count": 93,
   "id": "57a8d7a7-9956-47c4-9d21-8b92a6799d8e",
   "metadata": {},
   "outputs": [
    {
     "name": "stdin",
     "output_type": "stream",
     "text": [
      " 5\n"
     ]
    },
    {
     "name": "stdout",
     "output_type": "stream",
     "text": [
      "Not Prime\n"
     ]
    }
   ],
   "source": [
    "#prime number\n",
    "def isprime(s):\n",
    "  n=0\n",
    "  for i in range (1,n+1):\n",
    "     if n%i==0:\n",
    "      n+=1\n",
    "  if n==2:\n",
    "    return \"Prime\"\n",
    "  return \"Not Prime\"\n",
    "n=int(input())\n",
    "print(isprime(s))"
   ]
  },
  {
   "cell_type": "code",
   "execution_count": 95,
   "id": "12dada37-b7a8-4180-b4db-76ec5dc38a20",
   "metadata": {},
   "outputs": [
    {
     "name": "stdin",
     "output_type": "stream",
     "text": [
      " 1 2 3 1 3 2  24 2 53 24\n"
     ]
    },
    {
     "name": "stdout",
     "output_type": "stream",
     "text": [
      "[1, 2, 3, 24, 53]\n"
     ]
    }
   ],
   "source": [
    "#duplicates\n",
    "def remove_dup():\n",
    "    res=[]\n",
    "    for i in l:\n",
    "        if i not in res:\n",
    "            res.append(i)\n",
    "    return res\n",
    "l=list(map(int,input().split()))\n",
    "print(remove_dup())"
   ]
  },
  {
   "cell_type": "code",
   "execution_count": null,
   "id": "679883ee-2caa-41d0-9aea-8707853b4838",
   "metadata": {},
   "outputs": [],
   "source": []
  }
 ],
 "metadata": {
  "kernelspec": {
   "display_name": "Python 3 (ipykernel)",
   "language": "python",
   "name": "python3"
  },
  "language_info": {
   "codemirror_mode": {
    "name": "ipython",
    "version": 3
   },
   "file_extension": ".py",
   "mimetype": "text/x-python",
   "name": "python",
   "nbconvert_exporter": "python",
   "pygments_lexer": "ipython3",
   "version": "3.12.4"
  }
 },
 "nbformat": 4,
 "nbformat_minor": 5
}
