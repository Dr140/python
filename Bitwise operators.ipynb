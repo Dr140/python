{
 "cells": [
  {
   "cell_type": "code",
   "execution_count": null,
   "id": "2d00f0eb-ea2c-42cc-ad11-1c633d60e868",
   "metadata": {},
   "outputs": [],
   "source": [
    "x1=79\n",
    "y1=8\n",
    "x2=42\n",
    "y2=57\n",
    "x3=89\n",
    "y3=12\n",
    "x4=135\n",
    "y4=95\n",
    "x5=47\n",
    "y5=7\n",
    "#Bitwise AND\n",
    "a=x1&y1\n",
    "print(a)\n",
    "b=x5&y2\n",
    "print(b)\n",
    "#Bitwise or\n",
    "c=x2|y4\n",
    "print(c)\n",
    "d=x3|y5\n",
    "print(d)\n",
    "#Bitwise xor\n",
    "e=x4^y3\n",
    "print(e)\n",
    "f=x3^y1\n",
    "print(f)\n",
    "#Bitwise not\n",
    "g=x2~y4\n",
    "print(g)\n",
    "h=x1~y3\n",
    "print(h)\n",
    "#Bitwise left shift\n",
    "i=y4<<1\n",
    "print(i)\n",
    "j=x4<<2\n",
    "print(j)\n",
    "#Bitwise right shift\n",
    "k=x3>>1\n",
    "print(k)\n",
    "l=x4>>2\n",
    "print(l)"
   ]
  }
 ],
 "metadata": {
  "kernelspec": {
   "display_name": "Python 3 (ipykernel)",
   "language": "python",
   "name": "python3"
  },
  "language_info": {
   "codemirror_mode": {
    "name": "ipython",
    "version": 3
   },
   "file_extension": ".py",
   "mimetype": "text/x-python",
   "name": "python",
   "nbconvert_exporter": "python",
   "pygments_lexer": "ipython3",
   "version": "3.12.4"
  }
 },
 "nbformat": 4,
 "nbformat_minor": 5
}
