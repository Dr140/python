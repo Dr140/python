{
 "cells": [
  {
   "cell_type": "code",
   "execution_count": 1,
   "id": "6e9b0f6b-fabc-4936-b71d-d3c288e485e1",
   "metadata": {},
   "outputs": [
    {
     "name": "stdout",
     "output_type": "stream",
     "text": [
      "False\n",
      "True\n",
      "True\n",
      "False\n",
      "True\n",
      "True\n"
     ]
    }
   ],
   "source": [
    "# Define 10 numbers\n",
    "a = 1\n",
    "b = 10\n",
    "c = 7\n",
    "d = 89\n",
    "e = 67\n",
    "f = 32\n",
    "g = 80\n",
    "h = 43\n",
    "i = 77\n",
    "j = 5\n",
    "\n",
    "print(a == b)\n",
    "\n",
    "print(c != d)\n",
    "\n",
    "print(e > f)\n",
    "\n",
    "print(g < h)\n",
    "\n",
    "print(i >= j)\n",
    "\n",
    "print(a <= b)"
   ]
  },
  {
   "cell_type": "code",
   "execution_count": null,
   "id": "054f4442-91d4-43ec-9170-b81fd56f988a",
   "metadata": {},
   "outputs": [],
   "source": []
  }
 ],
 "metadata": {
  "kernelspec": {
   "display_name": "Python 3 (ipykernel)",
   "language": "python",
   "name": "python3"
  },
  "language_info": {
   "codemirror_mode": {
    "name": "ipython",
    "version": 3
   },
   "file_extension": ".py",
   "mimetype": "text/x-python",
   "name": "python",
   "nbconvert_exporter": "python",
   "pygments_lexer": "ipython3",
   "version": "3.12.4"
  }
 },
 "nbformat": 4,
 "nbformat_minor": 5
}
