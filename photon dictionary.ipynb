{
 "cells": [
  {
   "cell_type": "code",
   "execution_count": 1,
   "id": "1d2959fc-7287-4421-91cf-87f163ba5a0b",
   "metadata": {},
   "outputs": [
    {
     "name": "stdout",
     "output_type": "stream",
     "text": [
      "{'name': 'Dinesh', 'age': '22', 'grades': [85, 90, 92]}\n"
     ]
    }
   ],
   "source": [
    "#Empty dictionary\n",
    "empty_dict={}\n",
    "#Dictionary with key-value pairs\n",
    "student={'name':'Dinesh','age':'22','grade':'A'}\n",
    "#Dictionary with mixed data types\n",
    "mixed_dict={\n",
    "    'name':'Dinesh',\n",
    "    'age':'22',\n",
    "    'grades':[85,90,92]\n",
    "}\n",
    "print(mixed_dict)"
   ]
  },
  {
   "cell_type": "code",
   "execution_count": 5,
   "id": "5cc7879d-147d-4b3b-8779-0a928209290a",
   "metadata": {},
   "outputs": [
    {
     "name": "stdout",
     "output_type": "stream",
     "text": [
      "{}\n",
      "{'name': 'Dinesh', 'age': '22', 'grade': 'A'}\n",
      "{'name': 'Dinesh', 'age': '22', 'grades': [85, 90, 92]}\n"
     ]
    }
   ],
   "source": [
    "print(empty_dict)\n",
    "print(student)\n",
    "print(mixed_dict)"
   ]
  },
  {
   "cell_type": "code",
   "execution_count": 17,
   "id": "02137fb6-fd01-4350-a63f-016385187818",
   "metadata": {},
   "outputs": [
    {
     "name": "stdout",
     "output_type": "stream",
     "text": [
      "dinesh\n"
     ]
    }
   ],
   "source": [
    "#Accessing values\n",
    "student={\n",
    "    'name':'dinesh',\n",
    "    'age':'22',\n",
    "    'grades':'A'\n",
    "}\n",
    "print(student['name']) "
   ]
  },
  {
   "cell_type": "code",
   "execution_count": 19,
   "id": "78e02316-6a9b-4c8b-b1f0-3dc26c84cb68",
   "metadata": {},
   "outputs": [
    {
     "name": "stdout",
     "output_type": "stream",
     "text": [
      "[85, 90, 92]\n"
     ]
    }
   ],
   "source": [
    "#Dictionary with mixed data types\n",
    "mixed_dict={\n",
    "    'name':'Dinesh',\n",
    "    'age':'22',\n",
    "    'grades':[85,90,92]\n",
    "}\n",
    "print(mixed_dict['grades'])"
   ]
  },
  {
   "cell_type": "code",
   "execution_count": null,
   "id": "1ab14291-bb67-410e-a6ba-dc125959be83",
   "metadata": {},
   "outputs": [],
   "source": [
    "#Modifying and Adding entries\n",
    "student={\n",
    "    'name':'dinesh',\n",
    "    'age':'22',\n",
    "    'grades':'A'\n",
    "}\n"
   ]
  },
  {
   "cell_type": "code",
   "execution_count": 21,
   "id": "4e2e56d6-ce2b-4f2b-aabc-f585671e6649",
   "metadata": {},
   "outputs": [
    {
     "name": "stdout",
     "output_type": "stream",
     "text": [
      "{'name': 'Pavan', 'age': '22', 'grades': 'A', 'gender': 'male', 'qulification': 'B.Tech'}\n"
     ]
    }
   ],
   "source": [
    "#modifying an entry\n",
    "student['name']='Pavan'\n",
    "#Adding a new entry\n",
    "student['gender']='male'\n",
    "student['qulification']='B.Tech'\n",
    "print(student)"
   ]
  },
  {
   "cell_type": "code",
   "execution_count": 47,
   "id": "10320141-47c2-41f9-8072-4284d20be11e",
   "metadata": {},
   "outputs": [],
   "source": [
    "#Dictionary Methods\n",
    "#1.get():\n",
    "student={\n",
    "    'name':'dinesh',\n",
    "    'age':'22',\n",
    "    'gender':'male',\n",
    "    'grade':'A'\n",
    "}\n",
    "g=student.get('grade')\n",
    "gender=student.get('gender','not specified')\n",
    "h=student.get('location','not found')"
   ]
  },
  {
   "cell_type": "code",
   "execution_count": 53,
   "id": "8aea3743-a287-4e47-9101-c79e9b7d6493",
   "metadata": {},
   "outputs": [
    {
     "name": "stdout",
     "output_type": "stream",
     "text": [
      "A\n",
      "male\n",
      "not found\n"
     ]
    }
   ],
   "source": [
    "print(g)\n",
    "print(gender)\n",
    "print(h)"
   ]
  },
  {
   "cell_type": "code",
   "execution_count": 55,
   "id": "155c8c4b-8fdc-4c2e-adcb-d78a0fc954ea",
   "metadata": {},
   "outputs": [
    {
     "name": "stdout",
     "output_type": "stream",
     "text": [
      "dict_keys(['name', 'age', 'gender', 'grade'])\n"
     ]
    }
   ],
   "source": [
    "#2.keys():\n",
    "keys=student.keys()\n",
    "print(keys)"
   ]
  },
  {
   "cell_type": "code",
   "execution_count": 57,
   "id": "a1c16028-007b-4915-8533-7abe83f77f69",
   "metadata": {},
   "outputs": [
    {
     "name": "stdout",
     "output_type": "stream",
     "text": [
      "dict_values(['dinesh', '22', 'male', 'A'])\n"
     ]
    }
   ],
   "source": [
    "#3.values():\n",
    "values=student.values()\n",
    "print(values)"
   ]
  },
  {
   "cell_type": "code",
   "execution_count": 61,
   "id": "274756e8-e4a3-4882-83c7-e69d3a5c83e8",
   "metadata": {},
   "outputs": [
    {
     "name": "stdout",
     "output_type": "stream",
     "text": [
      "dict_items([('name', 'dinesh'), ('age', '22'), ('gender', 'male'), ('grade', 'A')])\n"
     ]
    }
   ],
   "source": [
    "#4.Items():\n",
    "items=student.items()\n",
    "print(items)"
   ]
  },
  {
   "cell_type": "code",
   "execution_count": null,
   "id": "6167a463-a21f-4b48-9079-e921ccd7e1c5",
   "metadata": {},
   "outputs": [],
   "source": [
    "#5.pop\n",
    "#dictionary with mixed data types\n",
    "mixed_dict={\n",
    "    'name':'dinesh',\n",
    "    'age':'22',\n",
    "    'grades':[85,90,92]\n",
    "}"
   ]
  },
  {
   "cell_type": "code",
   "execution_count": 65,
   "id": "062ccc1f-033e-41a0-8308-b897b2a9fc96",
   "metadata": {},
   "outputs": [
    {
     "name": "stdout",
     "output_type": "stream",
     "text": [
      "22\n"
     ]
    }
   ],
   "source": [
    "age=mixed_dict.pop('age')\n",
    "print(age)"
   ]
  },
  {
   "cell_type": "code",
   "execution_count": 67,
   "id": "24a794df-4f71-439f-8bc5-e20fcd3eb5ad",
   "metadata": {},
   "outputs": [
    {
     "name": "stdout",
     "output_type": "stream",
     "text": [
      "{'name': 'dinesh', 'age': '22', 'gender': 'male', 'grade': 'A'}\n"
     ]
    }
   ],
   "source": [
    "#6.popitem():\n",
    "print(student)\n"
   ]
  },
  {
   "cell_type": "code",
   "execution_count": 69,
   "id": "d0dfeb00-f044-4d8e-b017-585076e8a9b9",
   "metadata": {},
   "outputs": [
    {
     "name": "stdout",
     "output_type": "stream",
     "text": [
      "('grade', 'A')\n"
     ]
    }
   ],
   "source": [
    "last_item=student.popitem()\n",
    "print(last_item)"
   ]
  },
  {
   "cell_type": "code",
   "execution_count": 71,
   "id": "fd873030-95c1-456f-b397-2627f8cf4a5f",
   "metadata": {},
   "outputs": [
    {
     "name": "stdout",
     "output_type": "stream",
     "text": [
      "{'name': 'Dinesh', 'age': '22', 'grade': 'A'}\n"
     ]
    }
   ],
   "source": [
    "#7.update():\n",
    "#Dictionary with key-value pairs\n",
    "student={\n",
    "    'name':'Dinesh',\n",
    "    'age':'22',\n",
    "    'grade':'A'\n",
    "}\n",
    "print(student)"
   ]
  },
  {
   "cell_type": "code",
   "execution_count": 73,
   "id": "8070cfbb-1c91-48d1-b45f-594a6b2fa496",
   "metadata": {},
   "outputs": [
    {
     "name": "stdout",
     "output_type": "stream",
     "text": [
      "{'name': 'Dinesh', 'age': 27, 'grade': 'A+'}\n"
     ]
    }
   ],
   "source": [
    "new_data={'age':27,'grade':'A+'}\n",
    "student.update(new_data)\n",
    "print(student)"
   ]
  },
  {
   "cell_type": "code",
   "execution_count": null,
   "id": "1199e1ac-65cb-4a9c-88e9-2f5bbf89bc9d",
   "metadata": {},
   "outputs": [],
   "source": []
  }
 ],
 "metadata": {
  "kernelspec": {
   "display_name": "Python 3 (ipykernel)",
   "language": "python",
   "name": "python3"
  },
  "language_info": {
   "codemirror_mode": {
    "name": "ipython",
    "version": 3
   },
   "file_extension": ".py",
   "mimetype": "text/x-python",
   "name": "python",
   "nbconvert_exporter": "python",
   "pygments_lexer": "ipython3",
   "version": "3.12.4"
  }
 },
 "nbformat": 4,
 "nbformat_minor": 5
}
