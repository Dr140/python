{
 "cells": [
  {
   "cell_type": "code",
   "execution_count": 1,
   "id": "fc6c6d5d-94ce-42db-bd81-b1463c065b00",
   "metadata": {},
   "outputs": [
    {
     "name": "stdout",
     "output_type": "stream",
     "text": [
      "8\n",
      "15\n",
      "7\n"
     ]
    }
   ],
   "source": [
    "# AND,OR,XOR\n",
    "print(9 & 14)\n",
    "print(9 | 14)\n",
    "print(9 ^ 14)"
   ]
  },
  {
   "cell_type": "code",
   "execution_count": 3,
   "id": "31e5b1f3-c240-49ec-9f5c-6db0285fb883",
   "metadata": {},
   "outputs": [
    {
     "name": "stdout",
     "output_type": "stream",
     "text": [
      "430\n",
      "447\n",
      "17\n"
     ]
    }
   ],
   "source": [
    "print(447 & 430)\n",
    "print(447 | 430)\n",
    "print(447 ^ 430)"
   ]
  },
  {
   "cell_type": "code",
   "execution_count": 5,
   "id": "c089c2b5-4fad-49a7-b707-6c953fdb2507",
   "metadata": {},
   "outputs": [
    {
     "name": "stdout",
     "output_type": "stream",
     "text": [
      "1\n",
      "335\n",
      "334\n"
     ]
    }
   ],
   "source": [
    "print(333 & 3)\n",
    "print(333 | 3)\n",
    "print(333 ^ 3)"
   ]
  },
  {
   "cell_type": "code",
   "execution_count": 9,
   "id": "99b0edc6-1f32-4572-9908-1dba07d9d314",
   "metadata": {},
   "outputs": [
    {
     "name": "stdout",
     "output_type": "stream",
     "text": [
      "449\n",
      "2015\n",
      "1566\n"
     ]
    }
   ],
   "source": [
    "print(971 & 1493)\n",
    "print(971 | 1493)\n",
    "print(971 ^ 1493)\n"
   ]
  },
  {
   "cell_type": "code",
   "execution_count": 11,
   "id": "bf8bb372-2e6c-494f-902f-293db1b1441b",
   "metadata": {},
   "outputs": [
    {
     "name": "stdout",
     "output_type": "stream",
     "text": [
      "38256\n",
      "28764\n",
      "2560\n",
      "378\n"
     ]
    }
   ],
   "source": [
    "#left shift Right shift\n",
    "print(2391 << 4)\n",
    "print(7191 << 2)\n",
    "print(5121 >> 1)\n",
    "print(3029 >> 3)"
   ]
  },
  {
   "cell_type": "code",
   "execution_count": 13,
   "id": "074bcd5e-e053-4366-9fc6-38ba748bbd25",
   "metadata": {},
   "outputs": [
    {
     "data": {
      "text/plain": [
       "-2"
      ]
     },
     "execution_count": 13,
     "metadata": {},
     "output_type": "execute_result"
    }
   ],
   "source": [
    "#Pecedence\n",
    "2+(9-4 *3+1)*2"
   ]
  },
  {
   "cell_type": "code",
   "execution_count": null,
   "id": "cfc301ca-1a80-4bfb-bc65-a34ba8ecad9b",
   "metadata": {},
   "outputs": [],
   "source": [
    "2991+31-11602*"
   ]
  }
 ],
 "metadata": {
  "kernelspec": {
   "display_name": "Python 3 (ipykernel)",
   "language": "python",
   "name": "python3"
  },
  "language_info": {
   "codemirror_mode": {
    "name": "ipython",
    "version": 3
   },
   "file_extension": ".py",
   "mimetype": "text/x-python",
   "name": "python",
   "nbconvert_exporter": "python",
   "pygments_lexer": "ipython3",
   "version": "3.12.4"
  }
 },
 "nbformat": 4,
 "nbformat_minor": 5
}
