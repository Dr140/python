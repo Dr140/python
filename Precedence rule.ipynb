{
 "cells": [
  {
   "cell_type": "code",
   "execution_count": null,
   "id": "2facf25d-0cd6-40a6-ba39-82df4cbd10d7",
   "metadata": {},
   "outputs": [],
   "source": [
    "a=(56-25)*5\n",
    "print(a)\n",
    "b=(4+45)*4\n",
    "print(b)\n",
    "c=67**5\n",
    "print(c)\n",
    "d=8\n",
    "d1=+d\n",
    "print(d1)\n",
    "x=9\n",
    "y=5\n",
    "e=x%y\n",
    "print(e)\n",
    "f=777777<<3\n",
    "print(f)\n",
    "g=56478>>4\n",
    "print(g)\n",
    "print(56<78 & 67>58)\n",
    "print(2<4 | 6>7)\n",
    "print(6>8 ^       "
   ]
  }
 ],
 "metadata": {
  "kernelspec": {
   "display_name": "Python 3 (ipykernel)",
   "language": "python",
   "name": "python3"
  },
  "language_info": {
   "codemirror_mode": {
    "name": "ipython",
    "version": 3
   },
   "file_extension": ".py",
   "mimetype": "text/x-python",
   "name": "python",
   "nbconvert_exporter": "python",
   "pygments_lexer": "ipython3",
   "version": "3.12.4"
  }
 },
 "nbformat": 4,
 "nbformat_minor": 5
}
