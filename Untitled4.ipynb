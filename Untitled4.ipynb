{
 "cells": [
  {
   "cell_type": "code",
   "execution_count": 1,
   "id": "768533ba-93a9-47fd-8482-5bddb9bf7049",
   "metadata": {},
   "outputs": [
    {
     "name": "stdout",
     "output_type": "stream",
     "text": [
      "hello world\n"
     ]
    }
   ],
   "source": [
    "# first program in python\n",
    "print(\"hello world\")\n"
   ]
  },
  {
   "cell_type": "code",
   "execution_count": 3,
   "id": "cf16987f-0fa7-4c72-9d99-1cf34b311f2c",
   "metadata": {},
   "outputs": [
    {
     "name": "stdout",
     "output_type": "stream",
     "text": [
      "python version: 3.12.4 | packaged by Anaconda, Inc. | (main, Jun 18 2024, 10:07:17) [Clang 14.0.6 ]\n"
     ]
    }
   ],
   "source": [
    "# current version of python\n",
    "import sys\n",
    "print(\"python version:\", sys.version)"
   ]
  },
  {
   "cell_type": "code",
   "execution_count": 7,
   "id": "c67db306-a49b-4095-83ff-33c64f1674d1",
   "metadata": {},
   "outputs": [
    {
     "name": "stdout",
     "output_type": "stream",
     "text": [
      "twenty is greater than nine\n"
     ]
    }
   ],
   "source": [
    "#python indentation\n",
    "k=20\n",
    "if k>9:\n",
    "    print(\"twenty is greater than nine\")"
   ]
  },
  {
   "cell_type": "code",
   "execution_count": null,
   "id": "707d53eb-ee9e-4d97-bfb8-373e2e63a034",
   "metadata": {},
   "outputs": [],
   "source": [
    "# python keywords\n",
    "import keyword\n",
    "python_keywords=kwlist\n",
    "print(p"
   ]
  }
 ],
 "metadata": {
  "kernelspec": {
   "display_name": "Python 3 (ipykernel)",
   "language": "python",
   "name": "python3"
  },
  "language_info": {
   "codemirror_mode": {
    "name": "ipython",
    "version": 3
   },
   "file_extension": ".py",
   "mimetype": "text/x-python",
   "name": "python",
   "nbconvert_exporter": "python",
   "pygments_lexer": "ipython3",
   "version": "3.12.4"
  }
 },
 "nbformat": 4,
 "nbformat_minor": 5
}
