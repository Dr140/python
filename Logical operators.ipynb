{
 "cells": [
  {
   "cell_type": "code",
   "execution_count": 3,
   "id": "2b7aeec8-b014-4903-bf85-c9ce8bc3fe34",
   "metadata": {},
   "outputs": [
    {
     "ename": "SyntaxError",
     "evalue": "invalid syntax. Perhaps you forgot a comma? (3091180645.py, line 24)",
     "output_type": "error",
     "traceback": [
      "\u001b[0;36m  Cell \u001b[0;32mIn[3], line 24\u001b[0;36m\u001b[0m\n\u001b[0;31m    print(i<j not g>h)\u001b[0m\n\u001b[0m          ^\u001b[0m\n\u001b[0;31mSyntaxError\u001b[0m\u001b[0;31m:\u001b[0m invalid syntax. Perhaps you forgot a comma?\n"
     ]
    }
   ],
   "source": [
    "# Define 10 numbers\n",
    "a = 15\n",
    "b = 81\n",
    "c = 3\n",
    "d = 12\n",
    "e = 5\n",
    "f = 70\n",
    "g = 102\n",
    "h = 20\n",
    "i = 9\n",
    "j = 4\n",
    "\n",
    "# Logical AND\n",
    "print(a > b and c < d)\n",
    "print(e<f and g>h)\n",
    "print(i>j and a<b)\n",
    "print(c>d and g<e)\n",
    "# Logical OR\n",
    "print(a > b or c < d)\n",
    "print(e<f or g>h)\n",
    "print(a<b or e>f)\n",
    "print(b>c or d<f)\n",
    "# Logical NOT\n",
    "print(i<j not g>h)\n",
    "print(a<h not e>c)\n",
    "print(a>b not c<d)"
   ]
  },
  {
   "cell_type": "code",
   "execution_count": null,
   "id": "2d40631c-753c-4050-b468-294467dfa17d",
   "metadata": {},
   "outputs": [],
   "source": []
  }
 ],
 "metadata": {
  "kernelspec": {
   "display_name": "Python 3 (ipykernel)",
   "language": "python",
   "name": "python3"
  },
  "language_info": {
   "codemirror_mode": {
    "name": "ipython",
    "version": 3
   },
   "file_extension": ".py",
   "mimetype": "text/x-python",
   "name": "python",
   "nbconvert_exporter": "python",
   "pygments_lexer": "ipython3",
   "version": "3.12.4"
  }
 },
 "nbformat": 4,
 "nbformat_minor": 5
}
