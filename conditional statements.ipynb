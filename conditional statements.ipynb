{
 "cells": [
  {
   "cell_type": "code",
   "execution_count": 1,
   "id": "85d32885-a816-496a-ac4e-8605248827c0",
   "metadata": {},
   "outputs": [
    {
     "name": "stdout",
     "output_type": "stream",
     "text": [
      "eligible to vote:[34, 78, 23, 100, 91, 104, 205, 45]\n",
      "noteligible to vote:[5, 1]\n"
     ]
    }
   ],
   "source": [
    "#Task-1\n",
    "#separation of ages eligible and not eligible for vote\n",
    "ages=[34,5,78,23,100,91,104,205,45,1]\n",
    "#Taking two empty lists to store eligible and not eligible ages\n",
    "eligible_ages=[]\n",
    "noteligible_ages=[]\n",
    "if ages [0]>=18:\n",
    "    eligible_ages.append(ages[0])\n",
    "else:\n",
    "    noteligible_ages.append(ages[0])\n",
    "if ages[1] >= 18:\n",
    "    eligible_ages.append(ages[1])\n",
    "else:\n",
    "    noteligible_ages.append(ages[1])\n",
    "if ages[2] >= 18:\n",
    "    eligible_ages.append(ages[2])\n",
    "else:\n",
    "    noteligible_ages.append(ages[2])\n",
    "if ages[3] >= 18:\n",
    "    eligible_ages.append(ages[3])\n",
    "else:\n",
    "    noteligible_ages.append(ages[3])\n",
    "if ages[4] >= 18:\n",
    "    eligible_ages.append(ages[4])\n",
    "else:\n",
    "    noteligible_ages.append(ages[4])\n",
    "if ages[5] >= 18:\n",
    "    eligible_ages.append(ages[5])\n",
    "else:\n",
    "    noteligible_ages.append(ages[5])\n",
    "if ages[6] >= 18:\n",
    "    eligible_ages.append(ages[6])\n",
    "else:\n",
    "    noteligible_ages.append(ages[6])\n",
    "if ages[7] >= 18:\n",
    "    eligible_ages.append(ages[7])\n",
    "else:\n",
    "    noteligible_ages.append(ages[7])\n",
    "if ages[8] >= 18:\n",
    "    eligible_ages.append(ages[8])\n",
    "else:\n",
    "    noteligible_ages.append(ages[8])\n",
    "if ages[9] >= 18:\n",
    "    eligible_ages.append(ages[9])\n",
    "else:\n",
    "    noteligible_ages.append(ages[9])\n",
    "print(f\"eligible to vote:{eligible_ages}\")\n",
    "print(f\"noteligible to vote:{noteligible_ages}\")\n",
    "    \n",
    "    "
   ]
  },
  {
   "cell_type": "code",
   "execution_count": 5,
   "id": "64c4f3df-43b2-4c27-85d6-421a0cf717a9",
   "metadata": {},
   "outputs": [
    {
     "name": "stdin",
     "output_type": "stream",
     "text": [
      "Enter score: 75\n"
     ]
    },
    {
     "name": "stdout",
     "output_type": "stream",
     "text": [
      "your grade:C\n"
     ]
    }
   ],
   "source": [
    "#Task-2\n",
    "#Grading system\n",
    "score=int(input(\"Enter score:\"))\n",
    "if score>100:\n",
    "    grade='Enter valid score'\n",
    "elif score>=90:\n",
    "    grade='A'\n",
    "elif score >= 80:\n",
    "    grade = 'B'\n",
    "elif score >= 70:\n",
    "    grade = 'C'\n",
    "elif score >= 60:\n",
    "    grade = 'D'\n",
    "elif score >= 50:\n",
    "    grade = 'E'\n",
    "else:\n",
    "    grade = 'F'\n",
    "print(f\"your grade:{grade}\")    \n",
    "    "
   ]
  },
  {
   "cell_type": "code",
   "execution_count": null,
   "id": "da8005a7-1e59-4d39-bec8-423fb579f177",
   "metadata": {},
   "outputs": [
    {
     "name": "stdout",
     "output_type": "stream",
     "text": [
      "Welcome to Pranay Restaurant\n",
      "Please select menu\n",
      "press '1' for veg\n",
      "press '2' for non-veg\n"
     ]
    }
   ],
   "source": [
    "print(\"Welcome to Pranay Restaurant\")\n",
    "print(\"Please select menu\")\n",
    "print(\"press '1' for veg\")\n",
    "print(\"press '2' for non-veg\")\n",
    "number = int(input())\n",
    "veg = [\"1. Gobi Manchurian\", \"2. Gobi Chilli\", \"3. Baby Corn 65\", \"4. Paneer 65\", \"5. Mushroom Chilli\"]\n",
    "non_veg = [\"1. Chicken Manchurian\", \"2. Chicken 65\", \"3. Periperi Chicken\", \"4. Chicken Majestic\", \"5. Pepper Chicken\"]\n",
    "# We are using unpacking here\n",
    "v1, v2, v3, v4, v5 = veg\n",
    "nv1, nv2, nv3, nv4, nv5 = non_veg\n",
    "vegunpack = v1 + \", \" + v2 + \", \" + v3 + \", \" + v4 + \", \" + v5\n",
    "non_vegunpack = nv1 + \", \" + nv2 + \", \" + nv3 + \", \" + nv4 + \", \" + nv5\n",
    "if number == 1:\n",
    "    print(\"Select the menu:\", vegunpack)\n",
    "    veg_dish = int(input(\"Please enter the item in your veg menu: \"))\n",
    "    if veg_dish == 1 or veg_ddish == 2 or veg_dish == 3 or veg_dish == 4 or veg_dish == 5:\n",
    "        print(\"Your order is preparing\")\n",
    "    else:\n",
    "        print(\"Dish is not available\")\n",
    "if number == 2:\n",
    "    print(\"Select the menu:\", non_vegunpack)\n",
    "    nonveg_dish = int(input(\"Please enter the item in your non-veg menu: \"))\n",
    "    if nonveg_dish == 1 or nonveg_dish == 2 or nonveg_dish == 3 or nonveg_dish == 4 or nonveg_dish == 5:\n",
    "        print(\"Your order is preparing\")\n",
    "    else:\n",
    "        print(\"Dish is not available\")"
   ]
  },
  {
   "cell_type": "code",
   "execution_count": null,
   "id": "ac267e20-13a2-4fab-bb3d-045441b75198",
   "metadata": {},
   "outputs": [],
   "source": []
  }
 ],
 "metadata": {
  "kernelspec": {
   "display_name": "Python 3 (ipykernel)",
   "language": "python",
   "name": "python3"
  },
  "language_info": {
   "codemirror_mode": {
    "name": "ipython",
    "version": 3
   },
   "file_extension": ".py",
   "mimetype": "text/x-python",
   "name": "python",
   "nbconvert_exporter": "python",
   "pygments_lexer": "ipython3",
   "version": "3.12.4"
  }
 },
 "nbformat": 4,
 "nbformat_minor": 5
}
