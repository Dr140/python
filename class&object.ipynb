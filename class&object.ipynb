{
 "cells": [
  {
   "cell_type": "code",
   "execution_count": 2,
   "id": "0a439f7f-a180-4f1f-a139-e408485ff7a2",
   "metadata": {},
   "outputs": [
    {
     "name": "stdout",
     "output_type": "stream",
     "text": [
      "5\n"
     ]
    }
   ],
   "source": [
    "class myclass:\n",
    "    x=5\n",
    "obj=myclass()\n",
    "print(obj.x)"
   ]
  },
  {
   "cell_type": "code",
   "execution_count": 10,
   "id": "0d3d12ff-3351-49fd-9d76-b789878740a3",
   "metadata": {},
   "outputs": [
    {
     "name": "stdout",
     "output_type": "stream",
     "text": [
      "-2009\n"
     ]
    }
   ],
   "source": [
    "class myclass:\n",
    "    year=14-3-2020\n",
    "operation2k=myclass()\n",
    "print(operation2k.year)"
   ]
  },
  {
   "cell_type": "code",
   "execution_count": 12,
   "id": "aeb5f07b-df4e-4cbb-9503-8768c03d1f34",
   "metadata": {},
   "outputs": [
    {
     "name": "stdout",
     "output_type": "stream",
     "text": [
      "Buddy is 3 years old.\n",
      "Max is 5 years old.\n",
      "Woof!\n",
      "Woof!\n"
     ]
    }
   ],
   "source": [
    "class Dog:\n",
    "    def __init__(self, name, age):\n",
    "        self.name = name\n",
    "        self.age = age\n",
    "    def bark(self):\n",
    "        print(\"Woof!\")\n",
    "dog1 = Dog(\"Buddy\", 3)\n",
    "dog2 = Dog(\"Max\", 5)\n",
    "print(f\"{dog1.name} is {dog1.age} years old.\")\n",
    "print(f\"{dog2.name} is {dog2.age} years old.\")\n",
    "dog1.bark()\n",
    "dog2.bark()"
   ]
  },
  {
   "cell_type": "code",
   "execution_count": 14,
   "id": "7599e977-4565-4720-b62f-17aa48dfbe8d",
   "metadata": {},
   "outputs": [
    {
     "name": "stdout",
     "output_type": "stream",
     "text": [
      "Hello world\n"
     ]
    }
   ],
   "source": [
    "class self():\n",
    " def __init__(self):\n",
    "  print(\"Hello world\")\n",
    "obj = self()"
   ]
  },
  {
   "cell_type": "code",
   "execution_count": 16,
   "id": "b05e19cb-8980-482e-a672-edbce216539b",
   "metadata": {},
   "outputs": [
    {
     "name": "stdout",
     "output_type": "stream",
     "text": [
      "Buddy, 3 years old\n"
     ]
    }
   ],
   "source": [
    "class Dog:\n",
    " def __init__(self, name, age):\n",
    "  self.name = name\n",
    "  self.age = age\n",
    " def __str__(self):\n",
    "  return f\"{self.name}, {self.age} years old\"\n",
    "my_dog = Dog(name=\"Buddy\", age=3)\n",
    "print(my_dog) "
   ]
  },
  {
   "cell_type": "code",
   "execution_count": null,
   "id": "01b358ca-8c50-4fab-aed8-e4450cba8029",
   "metadata": {},
   "outputs": [],
   "source": []
  }
 ],
 "metadata": {
  "kernelspec": {
   "display_name": "Python 3 (ipykernel)",
   "language": "python",
   "name": "python3"
  },
  "language_info": {
   "codemirror_mode": {
    "name": "ipython",
    "version": 3
   },
   "file_extension": ".py",
   "mimetype": "text/x-python",
   "name": "python",
   "nbconvert_exporter": "python",
   "pygments_lexer": "ipython3",
   "version": "3.12.4"
  }
 },
 "nbformat": 4,
 "nbformat_minor": 5
}
