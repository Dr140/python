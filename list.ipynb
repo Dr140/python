{
 "cells": [
  {
   "cell_type": "code",
   "execution_count": 1,
   "id": "26d43a73-792f-41e4-834d-882e042e6272",
   "metadata": {},
   "outputs": [
    {
     "name": "stdout",
     "output_type": "stream",
     "text": [
      "[1, 2, 3, 4, 5] [-3, -4, -5, -21] [4.6, 6.7, 8.0, 9.2]\n"
     ]
    }
   ],
   "source": [
    "#working on numbers\n",
    "numbers=[1,2,3,4,5]\n",
    "numbers_1=[-3,-4,-5,-7-8-6]\n",
    "numbers_2=[4.6,6.7,8.0,9.2]\n",
    "print(numbers,numbers_1,numbers_2)"
   ]
  },
  {
   "cell_type": "code",
   "execution_count": 5,
   "id": "d8aa1f4a-f41a-49ce-82fb-a35546452d8f",
   "metadata": {},
   "outputs": [
    {
     "name": "stdout",
     "output_type": "stream",
     "text": [
      "3\n",
      "-21\n",
      "-3\n",
      "6.7\n"
     ]
    }
   ],
   "source": [
    "#Access list elements\n",
    "print(numbers[2])\n",
    "print(numbers_1[3])\n",
    "print(numbers_1[-4])\n",
    "print(numbers_2[-3])"
   ]
  },
  {
   "cell_type": "code",
   "execution_count": 12,
   "id": "248650b2-c082-4905-aaf9-716d0a959b83",
   "metadata": {},
   "outputs": [
    {
     "name": "stdout",
     "output_type": "stream",
     "text": [
      "[2]\n",
      "[]\n",
      "[3, 5, 7, 9, 11]\n"
     ]
    }
   ],
   "source": [
    "#slicing of a list\n",
    "my_list1=[0,1,1,2,3,5,8,13,21]\n",
    "my_list2=[-19.500,100,50,12.8]\n",
    "my_list3=[3,5,7,9,11]\n",
    "print(my_list1[3:4])\n",
    "print(my_list2[-1:-3])\n",
    "print(my_list3[:])"
   ]
  },
  {
   "cell_type": "code",
   "execution_count": 14,
   "id": "c587050f-159a-4cc4-a04b-ee1053cc993e",
   "metadata": {},
   "outputs": [
    {
     "name": "stdout",
     "output_type": "stream",
     "text": [
      "[0, 1, 1, 2, 3, 5, 8, 13, 21, -19.5, 100, 50, 12.8]\n"
     ]
    }
   ],
   "source": [
    "#list operations\n",
    "#1 concatenation\n",
    "concat1and2=my_list1+my_list2\n",
    "print(concat1and2)"
   ]
  },
  {
   "cell_type": "code",
   "execution_count": 16,
   "id": "60f4e49e-7fad-494a-a224-e55da046f7ce",
   "metadata": {},
   "outputs": [
    {
     "name": "stdout",
     "output_type": "stream",
     "text": [
      "[0, 1, 1, 2, 3, 5, 8, 13, 21, 0, 1, 1, 2, 3, 5, 8, 13, 21, 0, 1, 1, 2, 3, 5, 8, 13, 21, 0, 1, 1, 2, 3, 5, 8, 13, 21, 0, 1, 1, 2, 3, 5, 8, 13, 21]\n"
     ]
    }
   ],
   "source": [
    "#2Repitition\n",
    "my_list1repeat=my_list1*5\n",
    "print(my_list1repeat)"
   ]
  },
  {
   "cell_type": "code",
   "execution_count": 22,
   "id": "f2404761-9994-464f-b1f7-30b0ddd476bd",
   "metadata": {},
   "outputs": [
    {
     "name": "stdout",
     "output_type": "stream",
     "text": [
      "[-19.5, 100, 50, 12.8]\n"
     ]
    }
   ],
   "source": [
    "#change list items\n",
    "my_list2[1]=100\n",
    "print(my_list2)"
   ]
  },
  {
   "cell_type": "code",
   "execution_count": 20,
   "id": "ebfd27de-8265-4592-8e04-bb330028aa94",
   "metadata": {},
   "outputs": [
    {
     "name": "stdout",
     "output_type": "stream",
     "text": [
      "[0, 1, 3, 5, 7, 9, 11, 8, 13, 21]\n"
     ]
    }
   ],
   "source": [
    "#change a range of item values in a lis,we use slicing\n",
    "my_list1[2:6]=[3,5,7,9,11]\n",
    "print(my_list1)"
   ]
  },
  {
   "cell_type": "code",
   "execution_count": 24,
   "id": "d1d12cfd-4ec3-4ff6-addf-25d90b5f4ff2",
   "metadata": {},
   "outputs": [
    {
     "name": "stdout",
     "output_type": "stream",
     "text": [
      "[3, 5, 7, 9, 11, 24]\n"
     ]
    }
   ],
   "source": [
    "#list methods\n",
    "#append\n",
    "my_list3.append(24)\n",
    "print(my_list3)"
   ]
  },
  {
   "cell_type": "code",
   "execution_count": 28,
   "id": "05e80d0c-1888-4c68-9802-86220fd38cb9",
   "metadata": {},
   "outputs": [
    {
     "name": "stdout",
     "output_type": "stream",
     "text": [
      "[3, 5, 7, 9, 11, 24, 3, 5, 7, 9, 11]\n"
     ]
    }
   ],
   "source": [
    "#extend\n",
    "extend_my_list3=[3,5,7,9,11]\n",
    "my_list3.extend(extend_my_list3)\n",
    "print(my_list3)"
   ]
  },
  {
   "cell_type": "code",
   "execution_count": 30,
   "id": "3e84aca5-012d-4f17-98d5-b79224b059fc",
   "metadata": {},
   "outputs": [
    {
     "name": "stdout",
     "output_type": "stream",
     "text": [
      "[0, 1, 20, 1, 2, 3, 5, 8, 13, 21]\n",
      "[-19.5, 100, 50, 12.8, 50]\n",
      "[3, 100, 5, 7, 9, 11]\n"
     ]
    }
   ],
   "source": [
    "#insert\n",
    "my_list1=[0,1,1,2,3,5,8,13,21]\n",
    "my_list2=[-19.500,100,50,12.8]\n",
    "my_list3=[3,5,7,9,11]\n",
    "my_list1.insert(2,20)\n",
    "my_list2.insert(4,50)\n",
    "my_list3.insert(1,100)\n",
    "print(my_list1)\n",
    "print(my_list2)\n",
    "print(my_list3)"
   ]
  },
  {
   "cell_type": "code",
   "execution_count": 32,
   "id": "be8b24a4-b7d5-4556-bb99-c4bb35ca5f86",
   "metadata": {},
   "outputs": [
    {
     "name": "stdout",
     "output_type": "stream",
     "text": [
      "[0, 1, 1, 3, 5, 8, 13, 21]\n",
      "[100, 50, 12.8]\n",
      "[3, 5, 9, 11]\n"
     ]
    }
   ],
   "source": [
    "my_list1=[0,1,1,2,3,5,8,13,21]\n",
    "my_list2=[-19.500,100,50,12.8]\n",
    "my_list3=[3,5,7,9,11]\n",
    "my_list1.remove(2)\n",
    "my_list2.remove(-19.500)\n",
    "my_list3.remove(7)\n",
    "print(my_list1)\n",
    "print(my_list2)\n",
    "print(my_list3)"
   ]
  },
  {
   "cell_type": "code",
   "execution_count": 36,
   "id": "2e530e2c-0227-4d53-916e-58ec49d6bd83",
   "metadata": {},
   "outputs": [
    {
     "name": "stdout",
     "output_type": "stream",
     "text": [
      "2\n"
     ]
    }
   ],
   "source": [
    "#pop\n",
    "my_list1=[0,1,1,2,3,5,8,13,21]\n",
    "popped1_element=my_list1.pop(3)\n",
    "print(popped1_element)"
   ]
  },
  {
   "cell_type": "code",
   "execution_count": 38,
   "id": "17f010e8-dd08-4c79-91f1-43ace52dd6db",
   "metadata": {},
   "outputs": [
    {
     "name": "stdout",
     "output_type": "stream",
     "text": [
      "2\n"
     ]
    }
   ],
   "source": [
    "#index\n",
    "my_list2=[-19.500,100,50,12.8]\n",
    "index1=my_list2.index(50)\n",
    "print(index1)"
   ]
  },
  {
   "cell_type": "code",
   "execution_count": 40,
   "id": "72cf7a06-c515-4818-8753-b870e74066e3",
   "metadata": {},
   "outputs": [
    {
     "name": "stdout",
     "output_type": "stream",
     "text": [
      "1\n"
     ]
    }
   ],
   "source": [
    "#count\n",
    "countlist1=[9,8,7,6,5,4,3,2,1,99,87,65,43,21]\n",
    "count1=countlist1.count(4)\n",
    "print(count1)"
   ]
  },
  {
   "cell_type": "code",
   "execution_count": 42,
   "id": "3ecefe97-1a7d-41b7-95e0-32fde2184b72",
   "metadata": {},
   "outputs": [
    {
     "name": "stdout",
     "output_type": "stream",
     "text": [
      "[3, 5, 7, 9, 11]\n"
     ]
    }
   ],
   "source": [
    "#sort\n",
    "my_list3=[3,5,7,9,11]\n",
    "my_list3.sort()\n",
    "print(my_list3)"
   ]
  },
  {
   "cell_type": "code",
   "execution_count": 44,
   "id": "aeb6941d-529e-449b-ae79-8d6cc52a2366",
   "metadata": {},
   "outputs": [
    {
     "name": "stdout",
     "output_type": "stream",
     "text": [
      "[11, 9, 7, 5, 3]\n"
     ]
    }
   ],
   "source": [
    "#reverse\n",
    "my_list3=[3,5,7,9,11]\n",
    "my_list3.reverse()\n",
    "print(my_list3)"
   ]
  },
  {
   "cell_type": "code",
   "execution_count": 46,
   "id": "5b52f912-0cb4-4a0b-a6f8-5be0176816a1",
   "metadata": {},
   "outputs": [
    {
     "name": "stdout",
     "output_type": "stream",
     "text": [
      "['apple', 'banana', 'cherry', 'date', 'elderberry']\n",
      "['fig', 'grape', 'honeydew', 'kiwi', 'lemon', 'mango', 'nectarine']\n",
      "['orange', 'papaya', 'quince']\n",
      "['raspberry', 'strawberry', 'tangerine']\n",
      "['ugli fruit', 'voavanga', 'watermelon', 'xigua']\n",
      "['yellow passion fruit', 'zucchini', 'apple', 'banana', 'cherry']\n",
      "['date', 'elderberry', 'fig', 'grape', 'honeydew']\n",
      "['kiwi', 'lemon', 'mango', 'nectarine', 'orange', 'papaya', 'quince', 'raspberry', 'strawberry']\n",
      "['tangerine', 'ugli fruit', 'voavanga', 'watermelon', 'xigua', 'yellow passion fruit', 'zucchini']\n",
      "['apple', 'banana', 'cherry', 'date', 'elderberry', 'fig']\n"
     ]
    }
   ],
   "source": [
    "# String lists\n",
    "str_list1 = [\"apple\", \"banana\", \"cherry\", \"date\", \"elderberry\"]\n",
    "str_list2 = [\"fig\", \"grape\", \"honeydew\", \"kiwi\", \"lemon\", \"mango\", \"nectarine\"]\n",
    "str_list3 = [\"orange\", \"papaya\", \"quince\"]\n",
    "str_list4 = [\"raspberry\", \"strawberry\", \"tangerine\"]\n",
    "str_list5 = [\"ugli fruit\", \"voavanga\", \"watermelon\", \"xigua\"]\n",
    "str_list6 = [\"yellow passion fruit\", \"zucchini\", \"apple\", \"banana\", \"cherry\"]\n",
    "str_list7 = [\"date\", \"elderberry\", \"fig\", \"grape\", \"honeydew\"]\n",
    "str_list8 = [\"kiwi\", \"lemon\", \"mango\", \"nectarine\", \"orange\", \"papaya\", \"quince\", \"raspberry\", \"strawberry\"]\n",
    "str_list9 = [\"tangerine\", \"ugli fruit\", \"voavanga\", \"watermelon\", \"xigua\", \"yellow passion fruit\", \"zucchini\"]\n",
    "str_list10 = [\"apple\", \"banana\", \"cherry\", \"date\", \"elderberry\", \"fig\"]\n",
    "print(str_list1)\n",
    "print(str_list2)\n",
    "print(str_list3)\n",
    "print(str_list4)\n",
    "print(str_list5)\n",
    "print(str_list6)\n",
    "print(str_list7)\n",
    "print(str_list8)\n",
    "print(str_list9)\n",
    "print(str_list10)"
   ]
  },
  {
   "cell_type": "code",
   "execution_count": 56,
   "id": "1a184f09-aee1-4e2c-b0a1-d8a28b18467d",
   "metadata": {},
   "outputs": [
    {
     "name": "stdout",
     "output_type": "stream",
     "text": [
      "elderberry\n",
      "kiwi\n",
      "watermelon\n",
      "raspberry\n",
      "honeydew\n",
      "ugli fruit\n"
     ]
    }
   ],
   "source": [
    "#Access list elements\n",
    "print(str_list1[4])\n",
    "print(str_list2[3])\n",
    "print(str_list5[2])\n",
    "print(str_list4[-3])\n",
    "print(str_list7[-1])\n",
    "print(str_list9[-6])"
   ]
  },
  {
   "cell_type": "code",
   "execution_count": 58,
   "id": "85b2d1ec-2c29-439f-9a2d-ddf38804e316",
   "metadata": {},
   "outputs": [
    {
     "name": "stdout",
     "output_type": "stream",
     "text": [
      "['mango', 'nectarine']\n",
      "[]\n",
      "['raspberry', 'strawberry', 'tangerine']\n",
      "['voavanga', 'watermelon']\n",
      "['apple', 'banana', 'cherry']\n"
     ]
    }
   ],
   "source": [
    "#slicing of a list\n",
    "print(str_list8[2:4])\n",
    "print(str_list6[-1:-3])\n",
    "print(str_list4[:])\n",
    "print(str_list5[1:-1])\n",
    "print(str_list6[2:])"
   ]
  },
  {
   "cell_type": "code",
   "execution_count": 60,
   "id": "ffe9a4df-1293-48db-9b5d-5ef5f9c24e7f",
   "metadata": {},
   "outputs": [
    {
     "name": "stdout",
     "output_type": "stream",
     "text": [
      "['apple', 'banana', 'cherry', 'date', 'elderberry', 'fig', 'grape', 'honeydew', 'kiwi', 'lemon', 'mango', 'nectarine']\n",
      "['tangerine', 'ugli fruit', 'voavanga', 'watermelon', 'xigua', 'yellow passion fruit', 'zucchini', 'apple', 'banana', 'cherry', 'date', 'elderberry', 'fig']\n",
      "['ugli fruit', 'voavanga', 'watermelon', 'xigua', 'kiwi', 'lemon', 'mango', 'nectarine', 'orange', 'papaya', 'quince', 'raspberry', 'strawberry']\n"
     ]
    }
   ],
   "source": [
    "# 1 Concatenation \n",
    "concat1and2 = str_list1 + str_list2\n",
    "print(concat1and2)\n",
    "concat9and10 = str_list9 + str_list10\n",
    "print(concat9and10)\n",
    "concat5and8 = str_list5 +str_list8\n",
    "print(concat5and8)"
   ]
  },
  {
   "cell_type": "code",
   "execution_count": 62,
   "id": "6156bd47-7e98-4188-94f5-8c39d588a960",
   "metadata": {},
   "outputs": [
    {
     "name": "stdout",
     "output_type": "stream",
     "text": [
      "['apple', 'banana', 'cherry', 'date', 'elderberry', 'apple', 'banana', 'cherry', 'date', 'elderberry', 'apple', 'banana', 'cherry', 'date', 'elderberry', 'apple', 'banana', 'cherry', 'date', 'elderberry', 'apple', 'banana', 'cherry', 'date', 'elderberry']\n"
     ]
    }
   ],
   "source": [
    "#Repititon\n",
    "str_list1repeat = str_list1 * 5\n",
    "print(str_list1repeat)"
   ]
  },
  {
   "cell_type": "code",
   "execution_count": 64,
   "id": "bdc1fb07-78ce-41e9-99bd-3229274d6dd0",
   "metadata": {},
   "outputs": [
    {
     "name": "stdout",
     "output_type": "stream",
     "text": [
      "['orange', '100', 'quince']\n",
      "['tangerine', 'ugli fruit', 'voavanga', 'watermelon', '500', 'yellow passion fruit', 'zucchini']\n",
      "['apple', 'banana', 'cherry', 'date', 'elderberry', 'Dragon Fruit']\n"
     ]
    }
   ],
   "source": [
    "# Changing list items\n",
    "str_list3[1] = \"100\"\n",
    "print(str_list3)\n",
    "str_list9[4] = \"500\"\n",
    "print(str_list9)\n",
    "str_list10[5] = \"Dragon Fruit\"\n",
    "print(str_list10)"
   ]
  },
  {
   "cell_type": "code",
   "execution_count": 66,
   "id": "fc2b83ea-e442-413a-8ac2-49169ba6f8d1",
   "metadata": {},
   "outputs": [
    {
     "name": "stdout",
     "output_type": "stream",
     "text": [
      "['tangerine', 'ugli fruit', 5, 9, 17, 33, 'zucchini']\n",
      "['kiwi', 'lemon', 'mango', 10, 'Orange', 27, 63, 'papaya', 'quince', 'raspberry', 'strawberry']\n",
      "['date', 'elderberry', 11, 19, 28, 663, 'honeydew']\n"
     ]
    }
   ],
   "source": [
    "#Change a range of item values in a list, we use slicing\n",
    "str_list9[2:6] = [5,9,17,33]\n",
    "print(str_list9)\n",
    "str_list8[3:5] = [10,'Orange',27,63]\n",
    "print(str_list8)\n",
    "str_list7[-3:-1] = [11,19,28,663]\n",
    "print(str_list7)"
   ]
  },
  {
   "cell_type": "code",
   "execution_count": 68,
   "id": "a4dc8cc1-5db3-46f2-87c4-6ea8b6463a50",
   "metadata": {},
   "outputs": [
    {
     "name": "stdout",
     "output_type": "stream",
     "text": [
      "['raspberry', 'strawberry', 'tangerine', 'APPLE']\n"
     ]
    }
   ],
   "source": [
    "#Append\n",
    "str_list4.append(\"APPLE\")\n",
    "print(str_list4)"
   ]
  },
  {
   "cell_type": "code",
   "execution_count": 70,
   "id": "3c558c94-53e4-4a14-b086-60ca4821a89e",
   "metadata": {},
   "outputs": [
    {
     "name": "stdout",
     "output_type": "stream",
     "text": [
      "['orange', 100, '100', 'quince']\n",
      "['raspberry', 'strawberry', 10, 'tangerine', 'APPLE']\n",
      "['ugli fruit', 'voavanga', 'watermelon', 100, 'xigua']\n"
     ]
    }
   ],
   "source": [
    "#Insert\n",
    "str_list5.insert(3,100)\n",
    "str_list4.insert(2,10)\n",
    "str_list3.insert(1,100)\n",
    "print(str_list3)\n",
    "print(str_list4)\n",
    "print(str_list5)"
   ]
  },
  {
   "cell_type": "code",
   "execution_count": 72,
   "id": "f0335394-5f0a-4c1e-b564-27f5ed620781",
   "metadata": {},
   "outputs": [
    {
     "name": "stdout",
     "output_type": "stream",
     "text": [
      "['banana', 'cherry', 'date', 'elderberry']\n",
      "['fig', 'honeydew', 'kiwi', 'lemon', 'mango', 'nectarine']\n",
      "['orange', 'quince']\n"
     ]
    }
   ],
   "source": [
    "#Remove\n",
    "str_list1 = [\"apple\", \"banana\", \"cherry\", \"date\", \"elderberry\"]\n",
    "str_list2 = [\"fig\", \"grape\", \"honeydew\", \"kiwi\", \"lemon\", \"mango\", \"nectarine\"]\n",
    "str_list3 = [\"orange\", \"papaya\", \"quince\"]\n",
    "str_list4 = [\"raspberry\", \"strawberry\", \"tangerine\"]\n",
    "str_list5 = [\"ugli fruit\", \"voavanga\", \"watermelon\", \"xigua\"]\n",
    "str_list6 = [\"yellow passion fruit\", \"zucchini\", \"apple\", \"banana\", \"cherry\"]\n",
    "str_list7 = [\"date\", \"elderberry\", \"fig\", \"grape\", \"honeydew\"]\n",
    "str_list8 = [\"kiwi\", \"lemon\", \"mango\", \"nectarine\", \"orange\", \"papaya\", \"quince\", \"raspberry\", \"strawberry\"]\n",
    "str_list9 = [\"tangerine\", \"ugli fruit\", \"voavanga\", \"watermelon\", \"xigua\", \"yellow passion fruit\", \"zucchini\"]\n",
    "str_list10 = [\"apple\", \"banana\", \"cherry\", \"date\", \"elderberry\", \"fig\"]\n",
    "str_list1.remove(\"apple\")\n",
    "str_list2.remove(\"grape\")\n",
    "str_list3.remove('papaya')\n",
    "print(str_list1)\n",
    "print(str_list2)\n",
    "print(str_list3)"
   ]
  },
  {
   "cell_type": "code",
   "execution_count": 74,
   "id": "3f145b79-63e3-4761-9927-9371a0ee2334",
   "metadata": {},
   "outputs": [
    {
     "name": "stdout",
     "output_type": "stream",
     "text": [
      "cherry\n",
      "kiwi\n"
     ]
    }
   ],
   "source": [
    "#Pop\n",
    "str_list1 = [\"apple\", \"banana\", \"cherry\", \"date\", \"elderberry\"]\n",
    "str_list2 = [\"fig\", \"grape\", \"honeydew\", \"kiwi\", \"lemon\", \"mango\", \"nectarine\"]\n",
    "popped1_element = str_list1.pop(2)\n",
    "popped2_element = str_list2.pop(3)\n",
    "print(popped1_element)\n",
    "print(popped2_element)"
   ]
  },
  {
   "cell_type": "code",
   "execution_count": null,
   "id": "24cb9dac-48ae-43fa-8276-227afbcac553",
   "metadata": {},
   "outputs": [],
   "source": []
  }
 ],
 "metadata": {
  "kernelspec": {
   "display_name": "Python 3 (ipykernel)",
   "language": "python",
   "name": "python3"
  },
  "language_info": {
   "codemirror_mode": {
    "name": "ipython",
    "version": 3
   },
   "file_extension": ".py",
   "mimetype": "text/x-python",
   "name": "python",
   "nbconvert_exporter": "python",
   "pygments_lexer": "ipython3",
   "version": "3.12.4"
  }
 },
 "nbformat": 4,
 "nbformat_minor": 5
}
