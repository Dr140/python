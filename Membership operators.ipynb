{
 "cells": [
  {
   "cell_type": "code",
   "execution_count": 3,
   "id": "1f922d82-4cd2-4916-9c24-d398af0dac3b",
   "metadata": {},
   "outputs": [
    {
     "ename": "TypeError",
     "evalue": "argument of type 'int' is not iterable",
     "output_type": "error",
     "traceback": [
      "\u001b[0;31m---------------------------------------------------------------------------\u001b[0m",
      "\u001b[0;31mTypeError\u001b[0m                                 Traceback (most recent call last)",
      "Cell \u001b[0;32mIn[3], line 11\u001b[0m\n\u001b[1;32m      9\u001b[0m x5\u001b[38;5;241m=\u001b[39m\u001b[38;5;241m29\u001b[39m\n\u001b[1;32m     10\u001b[0m y5\u001b[38;5;241m=\u001b[39m\u001b[38;5;241m5\u001b[39m\n\u001b[0;32m---> 11\u001b[0m \u001b[38;5;28mprint\u001b[39m(x1 \u001b[38;5;129;01min\u001b[39;00m y1)\n\u001b[1;32m     12\u001b[0m \u001b[38;5;28mprint\u001b[39m(x2 \u001b[38;5;129;01mnot\u001b[39;00m \u001b[38;5;129;01min\u001b[39;00m y2)\n\u001b[1;32m     13\u001b[0m \u001b[38;5;28mprint\u001b[39m(x3 \u001b[38;5;129;01min\u001b[39;00m y3)\n",
      "\u001b[0;31mTypeError\u001b[0m: argument of type 'int' is not iterable"
     ]
    }
   ],
   "source": [
    "x=\"Dinesh\"\n",
    "y=[4,7,8,9,5]\n",
    "x1=\"VLSI\"\n",
    "y1=\"soon\"\n",
    "x2=[1,2,3,4,5]\n",
    "y2=[5,4,3,2,1]\n",
    "print(x in y)\n",
    "print(x1 not in y1)\n",
    "print('s' in y1)\n",
    "print('o' not in x1)\n",
    "print(x1 in y1)\n",
    "print(1 not in x2)\n",
    "print(x2 in y2)\n",
    "print(x not in y)\n",
    "print('I in x1)"
   ]
  },
  {
   "cell_type": "code",
   "execution_count": null,
   "id": "c8839a3a-ca85-4d71-842d-a8a7311f3c80",
   "metadata": {},
   "outputs": [],
   "source": []
  }
 ],
 "metadata": {
  "kernelspec": {
   "display_name": "Python 3 (ipykernel)",
   "language": "python",
   "name": "python3"
  },
  "language_info": {
   "codemirror_mode": {
    "name": "ipython",
    "version": 3
   },
   "file_extension": ".py",
   "mimetype": "text/x-python",
   "name": "python",
   "nbconvert_exporter": "python",
   "pygments_lexer": "ipython3",
   "version": "3.12.4"
  }
 },
 "nbformat": 4,
 "nbformat_minor": 5
}
