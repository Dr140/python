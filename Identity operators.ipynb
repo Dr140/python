{
 "cells": [
  {
   "cell_type": "code",
   "execution_count": 2,
   "id": "668a7f6e-ec6f-4959-b105-b0be9865237b",
   "metadata": {},
   "outputs": [
    {
     "name": "stdout",
     "output_type": "stream",
     "text": [
      "False\n"
     ]
    },
    {
     "data": {
      "text/plain": [
       "<function print(*args, sep=' ', end='\\n', file=None, flush=False)>"
      ]
     },
     "execution_count": 2,
     "metadata": {},
     "output_type": "execute_result"
    }
   ],
   "source": [
    "x1=5\n",
    "y1=7\n",
    "x2=45\n",
    "y2=65\n",
    "x3=92\n",
    "y3=45\n",
    "x4=88\n",
    "y4=88\n",
    "x5=34\n",
    "y5=43\n",
    "print(x1 is y1)\n",
    "print(x2 is y2)\n",
    "print(x3 is y3)\n",
    "print(x4 is y4)\n",
    "print(x5 is y5)\n",
    "print (x1 is not y1)\n",
    "print(x2"
   ]
  },
  {
   "cell_type": "code",
   "execution_count": null,
   "id": "b99fc43b-3e67-4f14-bd23-3ac30dd274c6",
   "metadata": {},
   "outputs": [],
   "source": []
  }
 ],
 "metadata": {
  "kernelspec": {
   "display_name": "Python 3 (ipykernel)",
   "language": "python",
   "name": "python3"
  },
  "language_info": {
   "codemirror_mode": {
    "name": "ipython",
    "version": 3
   },
   "file_extension": ".py",
   "mimetype": "text/x-python",
   "name": "python",
   "nbconvert_exporter": "python",
   "pygments_lexer": "ipython3",
   "version": "3.12.4"
  }
 },
 "nbformat": 4,
 "nbformat_minor": 5
}
