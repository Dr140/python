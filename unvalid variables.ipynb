{
 "cells": [
  {
   "cell_type": "code",
   "execution_count": 4,
   "id": "69f7e43f-22f0-4c98-b9ea-d662991a6be4",
   "metadata": {},
   "outputs": [
    {
     "ename": "SyntaxError",
     "evalue": "invalid decimal literal (4205473852.py, line 2)",
     "output_type": "error",
     "traceback": [
      "\u001b[0;36m  Cell \u001b[0;32mIn[4], line 2\u001b[0;36m\u001b[0m\n\u001b[0;31m    0num=29\u001b[0m\n\u001b[0m    ^\u001b[0m\n\u001b[0;31mSyntaxError\u001b[0m\u001b[0;31m:\u001b[0m invalid decimal literal\n"
     ]
    }
   ],
   "source": [
    "#invalid variables\n",
    "0num=29\n",
    "1apple=10\n",
    "and=44\n",
    "for=55\n",
    "with=23\n",
    "!109=109\n",
    "1word=1\n",
    "^high=67\n",
    "&and=45\n",
    "or=6\n",
    "if=10\n",
    "%var=34\n",
    "as=0\n",
    "return=70\n",
    "$try=62\n",
    "await=45\n",
    "not=6\n",
    "-class=2\n",
    "assert=77\n",
    "in=51\n",
    "print(@num)\n",
    "print(1apple)\n",
    "print(and)\n",
    "print(for)\n",
    "print(with)\n",
    "print(!109)\n",
    "print(1word)\n",
    "print(^high)\n",
    "print(&and)\n",
    "print(or)\n",
    "print(if)\n",
    "print(%var)\n",
    "print(as)\n",
    "print(return)\n",
    "print($try)\n",
    "print(await)\n",
    "print(not)\n",
    "print(-class)\n",
    "print(assert)\n",
    "print(in)"
   ]
  },
  {
   "cell_type": "code",
   "execution_count": null,
   "id": "8d0a8265-2cf0-46e5-8eff-5112507c6ab8",
   "metadata": {},
   "outputs": [],
   "source": []
  }
 ],
 "metadata": {
  "kernelspec": {
   "display_name": "Python 3 (ipykernel)",
   "language": "python",
   "name": "python3"
  },
  "language_info": {
   "codemirror_mode": {
    "name": "ipython",
    "version": 3
   },
   "file_extension": ".py",
   "mimetype": "text/x-python",
   "name": "python",
   "nbconvert_exporter": "python",
   "pygments_lexer": "ipython3",
   "version": "3.12.4"
  }
 },
 "nbformat": 4,
 "nbformat_minor": 5
}
