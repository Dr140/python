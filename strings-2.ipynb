{
 "cells": [
  {
   "cell_type": "code",
   "execution_count": 1,
   "id": "d5dd550f-5401-41ec-9c15-bdc0e15193e9",
   "metadata": {},
   "outputs": [
    {
     "name": "stdout",
     "output_type": "stream",
     "text": [
      "dinesh\n",
      "nellore\n",
      "dinesh\n",
      "nellore\n"
     ]
    }
   ],
   "source": [
    "#string is a sequence of characters\n",
    "str_1=\"dinesh\"\n",
    "str_2='nellore'\n",
    "multiline_str1=\"\"\"dinesh\"\"\"\n",
    "multiline_str2='''nellore'''\n",
    "print(str_1)\n",
    "print(str_2)\n",
    "print(multiline_str1)\n",
    "print(multiline_str2)\n"
   ]
  },
  {
   "cell_type": "code",
   "execution_count": 2,
   "id": "a53474b5-b822-4b9c-adfd-0452be412c0d",
   "metadata": {},
   "outputs": [
    {
     "name": "stdout",
     "output_type": "stream",
     "text": [
      "Hello\n",
      "World\n",
      "Python\n",
      "Macbook\n",
      "Bottle\n",
      "Swift\n",
      "Youtube\n",
      "Rise\n",
      "Battlegrounds\n",
      "PUBG\n"
     ]
    }
   ],
   "source": [
    "#String operations\n",
    "str1 = \"Hello\"\n",
    "str2 = \"World\"\n",
    "str3 = \"Python\"\n",
    "str4 = \"Macbook\"\n",
    "str5 = \"Bottle\"\n",
    "str6 = \"Swift\"\n",
    "str7 = \"Youtube\"\n",
    "str8 = \"Rise\"\n",
    "str9 = \"Battlegrounds\"\n",
    "str10 = \"PUBG\"\n",
    "print(str1)\n",
    "print(str2)\n",
    "print(str3)\n",
    "print(str4)\n",
    "print(str5)\n",
    "print(str6)\n",
    "print(str7)\n",
    "print(str8)\n",
    "print(str9)\n",
    "print(str10)"
   ]
  },
  {
   "cell_type": "code",
   "execution_count": 4,
   "id": "2cb9be52-7075-4d75-ba54-2005da049caa",
   "metadata": {},
   "outputs": [
    {
     "name": "stdout",
     "output_type": "stream",
     "text": [
      "Hello World\n",
      "Python Macbook\n",
      "Bottle Swift\n",
      "Youtube Rise\n",
      "Battlegrounds PUBG\n"
     ]
    }
   ],
   "source": [
    "#Concatenation\n",
    "print(str1 +\" \"+ str2)\n",
    "print(str3 +\" \"+ str4)\n",
    "print(str5 +\" \"+ str6)\n",
    "print(str7 +\" \"+ str8)\n",
    "print(str9 +\" \"+ str10)"
   ]
  },
  {
   "cell_type": "code",
   "execution_count": 6,
   "id": "fdd21d5f-1a05-47ef-85cd-e8150b24215a",
   "metadata": {},
   "outputs": [
    {
     "name": "stdout",
     "output_type": "stream",
     "text": [
      "Rise Rise Rise Rise Rise Rise Rise Rise \n"
     ]
    }
   ],
   "source": [
    "#Repition\n",
    "print((str8 +\" \") * 8)"
   ]
  },
  {
   "cell_type": "code",
   "execution_count": 10,
   "id": "30d06a9e-39fc-4887-96f1-7d744c5c5f1a",
   "metadata": {},
   "outputs": [
    {
     "name": "stdout",
     "output_type": "stream",
     "text": [
      "t\n",
      "l\n"
     ]
    }
   ],
   "source": [
    "#Indexing\n",
    "print(str5[2])\n",
    "print(str5[-2])"
   ]
  },
  {
   "cell_type": "code",
   "execution_count": 14,
   "id": "e35faad6-9292-46fc-9a53-8c560779f80d",
   "metadata": {},
   "outputs": [
    {
     "name": "stdout",
     "output_type": "stream",
     "text": [
      "c\n",
      " My name is Pavan and I am 18 years old.\n"
     ]
    }
   ],
   "source": [
    "# Slicing\n",
    "substr = str4[2:3]\n",
    "print(substr)\n",
    "#FORMAT STRINGS\n",
    "#Python 1\n",
    "name = \"Pavan\"\n",
    "age = 18\n",
    "format_string = \" My name is %s and I am %d years old.\" %(name,age)\n",
    "print(format_string)"
   ]
  },
  {
   "cell_type": "code",
   "execution_count": 16,
   "id": "32ff3e7f-8b51-4817-b104-109e7fd3913a",
   "metadata": {},
   "outputs": [
    {
     "name": "stdout",
     "output_type": "stream",
     "text": [
      "7\n"
     ]
    }
   ],
   "source": [
    "#String methods\n",
    "#len()\n",
    "str1 = \"Hello\"\n",
    "str2 = \"World\"\n",
    "str3 = \"Python\"\n",
    "str4 = \"Macbook\"\n",
    "str5 = \"Bottle\"\n",
    "str6 = \"Swift\"\n",
    "str7 = \"Youtube\"\n",
    "str8 = \"Rise\"\n",
    "str9 = \"Battlegrounds\"\n",
    "str10 = \"PUBG\"\n",
    "length_str4 = len(str4)\n",
    "print(length_str4)"
   ]
  },
  {
   "cell_type": "code",
   "execution_count": 18,
   "id": "afa46881-8fd3-4144-9ef2-0fa186091741",
   "metadata": {},
   "outputs": [
    {
     "name": "stdout",
     "output_type": "stream",
     "text": [
      "hello\n",
      "PUBG\n",
      "BATTLEGROUNDS\n",
      "swift\n"
     ]
    }
   ],
   "source": [
    "#lower/upper\n",
    "print(str1.lower())\n",
    "print(str10.upper())\n",
    "print(str9.upper())\n",
    "print(str6.lower())"
   ]
  },
  {
   "cell_type": "code",
   "execution_count": 24,
   "id": "f2927982-7d7f-4abd-b601-0a621afb126b",
   "metadata": {},
   "outputs": [
    {
     "name": "stdout",
     "output_type": "stream",
     "text": [
      "   hello    \n",
      "         World       \n",
      "    Python     \n",
      "Bottle\n",
      "  Macbook\n",
      "hello\n",
      "World\n",
      "Python\n",
      "Bottle\n",
      "Macbook\n"
     ]
    }
   ],
   "source": [
    "#Strip\n",
    "str1 = \"   hello    \"\n",
    "str2 = \"         World       \"\n",
    "str3 = \"    Python     \"  \n",
    "str4 = \"Bottle\" \n",
    "str5 = \"  Macbook\"  \n",
    "print(str1)\n",
    "print(str2)\n",
    "print(str3)\n",
    "print(str4)\n",
    "print(str5)\n",
    "#strip()\n",
    "print(str1.strip())\n",
    "print(str2.strip())\n",
    "print(str3.strip())\n",
    "print(str4.strip())\n",
    "print(str5.strip())"
   ]
  },
  {
   "cell_type": "code",
   "execution_count": 28,
   "id": "1c777573-6ef3-446c-ae15-0b66d97dc9dc",
   "metadata": {},
   "outputs": [
    {
     "name": "stdout",
     "output_type": "stream",
     "text": [
      "HeLLo\n",
      "WOrld\n",
      "python\n",
      "BoTTle\n",
      "macbook\n"
     ]
    }
   ],
   "source": [
    "#Replace\n",
    "str1 = \"Hello\"\n",
    "str2 = \"World\"\n",
    "str3 = \"Python\"\n",
    "str4 = \"Bottle\"\n",
    "str5 = \"Macbook\"\n",
    "# Replace \"l\" with \"L\" in str1\n",
    "str1_replaced = str1.replace(\"l\", \"L\")\n",
    "print(str1_replaced)  \n",
    "str2_replaced = str2.replace(\"o\", \"O\")\n",
    "print(str2_replaced) \n",
    "str3_replaced = str3.replace(\"P\", \"p\")\n",
    "print(str3_replaced)  \n",
    "str4_replaced = str4.replace(\"tt\", \"TT\")\n",
    "print(str4_replaced)  \n",
    "str5_replaced = str5.replace(\"M\", \"m\")\n",
    "print(str5_replaced)"
   ]
  },
  {
   "cell_type": "code",
   "execution_count": 30,
   "id": "81aa1ffb-1145-4145-b3fe-0713f0034290",
   "metadata": {},
   "outputs": [
    {
     "name": "stdout",
     "output_type": "stream",
     "text": [
      "['Hey!', 'siri', 'open', 'music']\n"
     ]
    }
   ],
   "source": [
    "#Split\n",
    "string = \"Hey! siri open music\" \n",
    "print(string.split())\n"
   ]
  },
  {
   "cell_type": "code",
   "execution_count": 34,
   "id": "ae07ebfa-ff83-468b-a9a8-c11d0b8a3676",
   "metadata": {},
   "outputs": [
    {
     "name": "stdout",
     "output_type": "stream",
     "text": [
      "str1: Hello\n",
      "  str1.capitalize(): Hello\n",
      "\n",
      "str2: World\n",
      "  str2.isalpha(): True\n",
      "  str2.isascii(): True\n",
      "\n",
      "str3: python\n",
      "  str3.capitalize(): Python\n",
      "  str3.casefold(): python\n",
      "\n",
      "str4: Bottle\n",
      "  str4.capitalize(): Bottle\n",
      "  str4.casefold(): bottle\n",
      "  str4.isalnum(): True\n",
      "  str4.isalpha(): True\n",
      "  str4.isascii(): True\n"
     ]
    }
   ],
   "source": [
    "#operation on string\n",
    "str1 = \"Hello\"\n",
    "str2 = \"World\"\n",
    "str3 = \"python\"\n",
    "str4 = \"Bottle\"\n",
    "str5 = \"Macbook\"\n",
    "str6 = \"Swift\"\n",
    "str7 = \"Youtube\"\n",
    "str8 = \"Rise\"\n",
    "str9 = \"Battlegrounds\"\n",
    "str10 = \"PUBG\"\n",
    "# Operations on str1\n",
    "print(f\"str1: {str1}\")\n",
    "print(f\"  str1.capitalize(): {str1.capitalize()}\")\n",
    "print()\n",
    "# Operations on str2\n",
    "print(f\"str2: {str2}\")\n",
    "print(f\"  str2.isalpha(): {str2.isalpha()}\")\n",
    "print(f\"  str2.isascii(): {str2.isascii()}\")\n",
    "print()\n",
    "# Operations on str3\n",
    "print(f\"str3: {str3}\")\n",
    "print(f\"  str3.capitalize(): {str3.capitalize()}\")\n",
    "print(f\"  str3.casefold(): {str3.casefold()}\")\n",
    "print()\n",
    "# Operations on str4\n",
    "print(f\"str4: {str4}\")\n",
    "print(f\"  str4.capitalize(): {str4.capitalize()}\")\n",
    "print(f\"  str4.casefold(): {str4.casefold()}\")\n",
    "print(f\"  str4.isalnum(): {str4.isalnum()}\")\n",
    "print(f\"  str4.isalpha(): {str4.isalpha()}\")\n",
    "print(f\"  str4.isascii(): {str4.isascii()}\")"
   ]
  },
  {
   "cell_type": "code",
   "execution_count": null,
   "id": "3a5b3971-6ad2-4ee1-bc23-1a1354d410e0",
   "metadata": {},
   "outputs": [],
   "source": []
  }
 ],
 "metadata": {
  "kernelspec": {
   "display_name": "Python 3 (ipykernel)",
   "language": "python",
   "name": "python3"
  },
  "language_info": {
   "codemirror_mode": {
    "name": "ipython",
    "version": 3
   },
   "file_extension": ".py",
   "mimetype": "text/x-python",
   "name": "python",
   "nbconvert_exporter": "python",
   "pygments_lexer": "ipython3",
   "version": "3.12.4"
  }
 },
 "nbformat": 4,
 "nbformat_minor": 5
}
