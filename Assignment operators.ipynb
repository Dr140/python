{
 "cells": [
  {
   "cell_type": "code",
   "execution_count": 1,
   "id": "bd7e6b1c-5cbf-4454-904e-db69b228747b",
   "metadata": {},
   "outputs": [
    {
     "name": "stdout",
     "output_type": "stream",
     "text": [
      "182\n",
      "48\n",
      "34\n",
      "5488\n",
      "2.0\n",
      "10077696\n",
      "0\n",
      "2\n"
     ]
    }
   ],
   "source": [
    "# Define 10 numbers\n",
    "a = 175\n",
    "b = 7\n",
    "c = 31\n",
    "d = 17\n",
    "e = 44\n",
    "f = 10\n",
    "g = 56\n",
    "h = 98\n",
    "i = 2\n",
    "j = 1\n",
    "\n",
    "a+=b \n",
    "print(a)\n",
    "c += d \n",
    "print(c)\n",
    "e -= f \n",
    "print(e)\n",
    "g *= h\n",
    "print(g)\n",
    "i /= j\n",
    "print(i)\n",
    "k = 6\n",
    "k **= 9\n",
    "print(k)\n",
    "m = 1\n",
    "m //= 8\n",
    "print(m)\n",
    "# Modulus assignment\n",
    "p = 2\n",
    "p %= 4\n",
    "print(p)"
   ]
  },
  {
   "cell_type": "code",
   "execution_count": null,
   "id": "e11fb00a-6693-48b8-9876-8773f078b76e",
   "metadata": {},
   "outputs": [],
   "source": []
  }
 ],
 "metadata": {
  "kernelspec": {
   "display_name": "Python 3 (ipykernel)",
   "language": "python",
   "name": "python3"
  },
  "language_info": {
   "codemirror_mode": {
    "name": "ipython",
    "version": 3
   },
   "file_extension": ".py",
   "mimetype": "text/x-python",
   "name": "python",
   "nbconvert_exporter": "python",
   "pygments_lexer": "ipython3",
   "version": "3.12.4"
  }
 },
 "nbformat": 4,
 "nbformat_minor": 5
}
