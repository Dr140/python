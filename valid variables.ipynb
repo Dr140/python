{
 "cells": [
  {
   "cell_type": "code",
   "execution_count": 7,
   "id": "85432639-2fcf-4a1a-ad02-33fed1f71ea1",
   "metadata": {},
   "outputs": [
    {
     "ename": "NameError",
     "evalue": "name 'apple' is not defined",
     "output_type": "error",
     "traceback": [
      "\u001b[0;31m---------------------------------------------------------------------------\u001b[0m",
      "\u001b[0;31mNameError\u001b[0m                                 Traceback (most recent call last)",
      "Cell \u001b[0;32mIn[7], line 3\u001b[0m\n\u001b[1;32m      1\u001b[0m \u001b[38;5;66;03m#creating 20 valid variables\u001b[39;00m\n\u001b[1;32m      2\u001b[0m alpha\u001b[38;5;241m=\u001b[39m\u001b[38;5;241m10\u001b[39m\n\u001b[0;32m----> 3\u001b[0m name\u001b[38;5;241m=\u001b[39m apple\n\u001b[1;32m      4\u001b[0m red\u001b[38;5;241m=\u001b[39m\u001b[38;5;241m40\u001b[39m\n\u001b[1;32m      5\u001b[0m _sasi\u001b[38;5;241m=\u001b[39m\u001b[38;5;241m1\u001b[39m\n",
      "\u001b[0;31mNameError\u001b[0m: name 'apple' is not defined"
     ]
    }
   ],
   "source": [
    "#creating 20 valid variables\n",
    "alpha=10\n",
    "name= \"apple\"\n",
    "red=40\n",
    "_sasi=1\n",
    "vishnu=589\n",
    "weight=70\n",
    "speed=20\n",
    "senior=2\n",
    "sport=\"cricket\"\n",
    "state=\"andhrapradesh\"\n",
    "pincode=524005\n",
    "height=170\n",
    "distance=502\n",
    "district=nellore\n",
    "size=10+5j\n",
    "game=Bgmi\n",
    "layout=outline\n",
    "dinesh=1403\n",
    "kalyan=49.6\n",
    "land=dry\n",
    "print(alpha)\n",
    "print(num)\n",
    "print(red)\n",
    "print(_sasi)\n",
    "print(vishnu)\n",
    "print(weight)\n",
    "print(speed)\n",
    "print(senior)\n",
    "print(sport)\n",
    "print(state)\n",
    "print(pincode)\n",
    "print(height)\n",
    "print(distance)\n",
    "print(district)\n",
    "print(size)\n",
    "print(game)\n",
    "print(layout)\n",
    "print(dinesh)\n",
    "print(kalyan)\n",
    "print(land)\n"
   ]
  },
  {
   "cell_type": "code",
   "execution_count": null,
   "id": "66450333-0804-43da-99c0-edb83713400f",
   "metadata": {},
   "outputs": [],
   "source": []
  }
 ],
 "metadata": {
  "kernelspec": {
   "display_name": "Python 3 (ipykernel)",
   "language": "python",
   "name": "python3"
  },
  "language_info": {
   "codemirror_mode": {
    "name": "ipython",
    "version": 3
   },
   "file_extension": ".py",
   "mimetype": "text/x-python",
   "name": "python",
   "nbconvert_exporter": "python",
   "pygments_lexer": "ipython3",
   "version": "3.12.4"
  }
 },
 "nbformat": 4,
 "nbformat_minor": 5
}
