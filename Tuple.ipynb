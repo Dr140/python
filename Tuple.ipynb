{
 "cells": [
  {
   "cell_type": "code",
   "execution_count": 4,
   "id": "5f7b32bb-78c3-4570-91bd-794aa0f613e8",
   "metadata": {},
   "outputs": [
    {
     "name": "stdout",
     "output_type": "stream",
     "text": [
      "()\n"
     ]
    }
   ],
   "source": [
    "#Creating a tuple\n",
    "#Empty tuple\n",
    "empty_tuple=()\n",
    "print(empty_tuple"
   ]
  },
  {
   "cell_type": "code",
   "execution_count": 6,
   "id": "de5747ee-098d-400c-b260-677a2eb4b2f4",
   "metadata": {},
   "outputs": [
    {
     "name": "stdout",
     "output_type": "stream",
     "text": [
      "<class 'tuple'>\n"
     ]
    }
   ],
   "source": [
    "#tuples with elements\n",
    "vehicles=(\"volvo\",\"swift\",\"polo\")\n",
    "vehicles\n",
    "print(type(vehicles))"
   ]
  },
  {
   "cell_type": "code",
   "execution_count": 12,
   "id": "9afae0a4-f767-4f07-8fc1-5957763b73e3",
   "metadata": {},
   "outputs": [
    {
     "name": "stdout",
     "output_type": "stream",
     "text": [
      "polo\n",
      "('volvo', 'swift')\n"
     ]
    }
   ],
   "source": [
    "#Accesing of tuples\n",
    "vehicles=(\"volvo\",\"swift\",\"polo\")\n",
    "print(vehicles[2])\n",
    "print(vehicles[0:2])"
   ]
  },
  {
   "cell_type": "code",
   "execution_count": 14,
   "id": "474eb742-a8d7-440c-988d-549acc1d0eb6",
   "metadata": {},
   "outputs": [
    {
     "ename": "TypeError",
     "evalue": "'tuple' object does not support item assignment",
     "output_type": "error",
     "traceback": [
      "\u001b[0;31m---------------------------------------------------------------------------\u001b[0m",
      "\u001b[0;31mTypeError\u001b[0m                                 Traceback (most recent call last)",
      "Cell \u001b[0;32mIn[14], line 3\u001b[0m\n\u001b[1;32m      1\u001b[0m \u001b[38;5;66;03m#Immutability\u001b[39;00m\n\u001b[1;32m      2\u001b[0m vehicles\u001b[38;5;241m=\u001b[39m(\u001b[38;5;124m\"\u001b[39m\u001b[38;5;124mvolvo\u001b[39m\u001b[38;5;124m\"\u001b[39m,\u001b[38;5;124m\"\u001b[39m\u001b[38;5;124mswift\u001b[39m\u001b[38;5;124m\"\u001b[39m,\u001b[38;5;124m\"\u001b[39m\u001b[38;5;124mpolo\u001b[39m\u001b[38;5;124m\"\u001b[39m)\n\u001b[0;32m----> 3\u001b[0m vehicles[\u001b[38;5;241m2\u001b[39m]\u001b[38;5;241m=\u001b[39m\u001b[38;5;124m\"\u001b[39m\u001b[38;5;124mBNW\u001b[39m\u001b[38;5;124m\"\u001b[39m\n\u001b[1;32m      4\u001b[0m \u001b[38;5;28mprint\u001b[39m(vehicles)\n",
      "\u001b[0;31mTypeError\u001b[0m: 'tuple' object does not support item assignment"
     ]
    }
   ],
   "source": [
    "#Immutability\n",
    "vehicles=(\"volvo\",\"swift\",\"polo\")\n",
    "vehicles[2]=\"BNW\"\n",
    "print(vehicles)"
   ]
  },
  {
   "cell_type": "code",
   "execution_count": 18,
   "id": "b8e41821-32a2-491b-a804-5f86fa60870c",
   "metadata": {},
   "outputs": [
    {
     "name": "stdout",
     "output_type": "stream",
     "text": [
      "(1, 4, 0, 3, 'd', 'i', 'n', 'a')\n"
     ]
    }
   ],
   "source": [
    "#Tuple operations\n",
    "#concatenation\n",
    "tuple1=(1,4,0,3)\n",
    "tuple2=('d','i','n','a')\n",
    "result=tuple1+tuple2\n",
    "print(result)"
   ]
  },
  {
   "cell_type": "code",
   "execution_count": 20,
   "id": "74a3bec9-32ea-4ac0-a040-9a609e20c2b2",
   "metadata": {},
   "outputs": [
    {
     "name": "stdout",
     "output_type": "stream",
     "text": [
      "(1, 4, 0, 3, 'd', 'i', 'n', 'a', 'd', 'i', 'n', 'a', 'd', 'i', 'n', 'a', 'd', 'i', 'n', 'a', 'd', 'i', 'n', 'a', 'd', 'i', 'n', 'a', 'd', 'i', 'n', 'a', 'd', 'i', 'n', 'a', 'd', 'i', 'n', 'a', 'd', 'i', 'n', 'a')\n"
     ]
    }
   ],
   "source": [
    "#Repetition\n",
    "tuple1=(1,4,0,3)\n",
    "tuple2=('d','i','n','a')\n",
    "result=tuple1+tuple2*10\n",
    "print(result)"
   ]
  },
  {
   "cell_type": "code",
   "execution_count": 22,
   "id": "59ae8f9b-9e4c-4a03-a4a0-2079b802d844",
   "metadata": {},
   "outputs": [
    {
     "name": "stdout",
     "output_type": "stream",
     "text": [
      "3\n"
     ]
    }
   ],
   "source": [
    "#tuple methods\n",
    "#count()\n",
    "numbers=(1,2,2,3,4,5,6,6,7,8,9,6,7,4,2)\n",
    "count_of_2=numbers.count(6)\n",
    "print(count_of_2)"
   ]
  },
  {
   "cell_type": "code",
   "execution_count": 24,
   "id": "2b7b60ec-5d6e-40e1-8adb-7c550bccb10a",
   "metadata": {},
   "outputs": [
    {
     "name": "stdout",
     "output_type": "stream",
     "text": [
      "6\n"
     ]
    }
   ],
   "source": [
    "#index()\n",
    "numbers=(1,2,5,3,4,5,7)\n",
    "index_of_3=numbers.index(7)\n",
    "print(index_of_3)"
   ]
  },
  {
   "cell_type": "code",
   "execution_count": 26,
   "id": "ad6bbfa8-ed82-4bf0-b99f-e57bf4fcb900",
   "metadata": {},
   "outputs": [
    {
     "name": "stdout",
     "output_type": "stream",
     "text": [
      "10\n",
      "20\n",
      "30\n"
     ]
    }
   ],
   "source": [
    "#tuple unpacking\n",
    "my_tuple=(10,20,30)\n",
    "a,b,c=my_tuple\n",
    "print(a)\n",
    "print(b)\n",
    "print(c)\n"
   ]
  },
  {
   "cell_type": "code",
   "execution_count": 28,
   "id": "5f868486-40b9-4fbd-a812-fb23d3ab00d6",
   "metadata": {},
   "outputs": [
    {
     "name": "stdout",
     "output_type": "stream",
     "text": [
      "6\n"
     ]
    }
   ],
   "source": [
    "#len\n",
    "my_tuple=(1,2,2,3,4,2)\n",
    "print(len(my_tuple))"
   ]
  },
  {
   "cell_type": "code",
   "execution_count": 30,
   "id": "db6a6e68-a5b6-4ee4-b027-60ca64270945",
   "metadata": {},
   "outputs": [
    {
     "name": "stdout",
     "output_type": "stream",
     "text": [
      "(1, 2, 3, 4, 5, 6)\n"
     ]
    }
   ],
   "source": [
    "#concatenating tuples\n",
    "tuple1=(1,2,3)\n",
    "tuple2=(4,5,6)\n",
    "tuple3=tuple1+tuple2\n",
    "print(tuple3)"
   ]
  },
  {
   "cell_type": "code",
   "execution_count": 36,
   "id": "a9aef34d-4c55-4d24-bc72-cce38ea397b7",
   "metadata": {},
   "outputs": [
    {
     "name": "stdout",
     "output_type": "stream",
     "text": [
      "(2, 3, 4)\n"
     ]
    }
   ],
   "source": [
    "#slicing tuples\n",
    "my_tuple=(1,2,3,4,5)\n",
    "print(my_tuple[1:4])"
   ]
  },
  {
   "cell_type": "code",
   "execution_count": 38,
   "id": "0c6445f8-c554-4a90-9142-dd5116036d20",
   "metadata": {},
   "outputs": [
    {
     "name": "stdout",
     "output_type": "stream",
     "text": [
      "True\n",
      "False\n"
     ]
    }
   ],
   "source": [
    "#membership\n",
    "my_tuple=(1,2,3,4,5)\n",
    "print(2 in my_tuple)\n",
    "print(8 in my_tuple)"
   ]
  },
  {
   "cell_type": "code",
   "execution_count": null,
   "id": "ab438475-56ff-4544-9c51-34de49c956c0",
   "metadata": {},
   "outputs": [],
   "source": [
    "#Iterating through a tuple\n",
    "my_tuple(1,2,3,4,5)\n",
    "for item in my_tuple:\n",
    "    "
   ]
  }
 ],
 "metadata": {
  "kernelspec": {
   "display_name": "Python 3 (ipykernel)",
   "language": "python",
   "name": "python3"
  },
  "language_info": {
   "codemirror_mode": {
    "name": "ipython",
    "version": 3
   },
   "file_extension": ".py",
   "mimetype": "text/x-python",
   "name": "python",
   "nbconvert_exporter": "python",
   "pygments_lexer": "ipython3",
   "version": "3.12.4"
  }
 },
 "nbformat": 4,
 "nbformat_minor": 5
}
