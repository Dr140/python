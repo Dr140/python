{
 "cells": [
  {
   "cell_type": "code",
   "execution_count": 1,
   "id": "80bf37bf-cca7-4595-b64c-2fa00ef4d606",
   "metadata": {},
   "outputs": [
    {
     "name": "stdout",
     "output_type": "stream",
     "text": [
      "set()\n"
     ]
    }
   ],
   "source": [
    "#creating an empty set\n",
    "myset=set()\n",
    "print(myset)"
   ]
  },
  {
   "cell_type": "code",
   "execution_count": 5,
   "id": "a9786a2a-7142-4b88-ab48-33c2a91affbe",
   "metadata": {},
   "outputs": [
    {
     "name": "stdout",
     "output_type": "stream",
     "text": [
      "{'polo', 'volvo', 'swift'}\n",
      "<class 'set'>\n",
      "{'kiwi', 'grape', 'dragon fruit'}\n",
      "<class 'set'>\n",
      "{'pine apple', 'Kiwi', 'apple'}\n",
      "<class 'set'>\n",
      "{4.5, 5, -2, 'python'}\n",
      "<class 'set'>\n",
      "{-2.3, 5.4, 6.8, 7.2}\n",
      "<class 'set'>\n"
     ]
    }
   ],
   "source": [
    "#creating sets\n",
    "cars={'volvo','polo','swift'}\n",
    "fruits={'kiwi','grape','dragon fruit'}\n",
    "strings={'Kiwi','apple','pine apple'}\n",
    "mixed={5,'python',-2,4.5}\n",
    "float={5.4,7.2,-2.3,6.8}\n",
    "print(cars)\n",
    "print(type(cars))\n",
    "print(fruits)\n",
    "print(type(fruits))\n",
    "print(strings)\n",
    "print(type(strings))\n",
    "print(mixed)\n",
    "print(type(mixed))\n",
    "print(float)\n",
    "print(type(float))"
   ]
  },
  {
   "cell_type": "code",
   "execution_count": 11,
   "id": "6a1a8d51-f748-4456-85a5-7e1b6babc4c3",
   "metadata": {},
   "outputs": [
    {
     "name": "stdout",
     "output_type": "stream",
     "text": [
      "{32, 3, 4, 5, 6, 7, 8, 9, 23, 56}\n"
     ]
    }
   ],
   "source": [
    "#Duplicate\n",
    "integers={4,5,6,4,56,3,6,8,9,23,32,23,5,6,8,9,7}\n",
    "print(integers)"
   ]
  },
  {
   "cell_type": "code",
   "execution_count": 13,
   "id": "161370da-9032-4e17-ba7c-f89ef0b32ef9",
   "metadata": {},
   "outputs": [
    {
     "name": "stdout",
     "output_type": "stream",
     "text": [
      "{1, 3, 4, 6, 7, 10}\n"
     ]
    }
   ],
   "source": [
    "#Add items to set\n",
    "numbers={1,3,6,7,4}\n",
    "numbers.add(10)\n",
    "print(numbers)"
   ]
  },
  {
   "cell_type": "code",
   "execution_count": 15,
   "id": "00a33f8b-fbd7-4f4e-acd5-a070bbbd9c43",
   "metadata": {},
   "outputs": [
    {
     "name": "stdout",
     "output_type": "stream",
     "text": [
      "{'wipro', 'google', 'TCS', 'apple'}\n"
     ]
    }
   ],
   "source": [
    "#update python set\n",
    "companies={'TCS','wipro'}\n",
    "tech_companies=['apple','google','apple']\n",
    "update_companies=companies.update(tech_companies)\n",
    "print(companies)"
   ]
  },
  {
   "cell_type": "code",
   "execution_count": 19,
   "id": "36bceab3-72b9-4696-b2a4-5261d08cb141",
   "metadata": {},
   "outputs": [
    {
     "name": "stdout",
     "output_type": "stream",
     "text": [
      "{'BNW', 'swift'}\n"
     ]
    }
   ],
   "source": [
    "#Remove an element from set\n",
    "cars={'swift','audi','BNW'}\n",
    "cars.remove('audi')\n",
    "print(cars)"
   ]
  },
  {
   "cell_type": "code",
   "execution_count": 21,
   "id": "05cd8892-f890-4d2b-a775-e97d682790a9",
   "metadata": {},
   "outputs": [
    {
     "name": "stdout",
     "output_type": "stream",
     "text": [
      "{'BNW', 'audi'}\n",
      "{'pine apple', 'Kiwi'}\n",
      "{-2.3, 5.4, 6.8}\n"
     ]
    }
   ],
   "source": [
    "cars={'swift','audi','BNW'}\n",
    "strings={'Kiwi','apple','pine apple'}\n",
    "float={5.4,7.2,-2.3,6.8}\n",
    "cars.discard('swift')\n",
    "strings.discard('apple')\n",
    "float.discard(7.2)\n",
    "print(cars)\n",
    "print(strings)\n",
    "print(float)\n"
   ]
  },
  {
   "cell_type": "code",
   "execution_count": 25,
   "id": "a72cdba1-1806-467d-8485-65a3505a191b",
   "metadata": {},
   "outputs": [
    {
     "name": "stdout",
     "output_type": "stream",
     "text": [
      "union using|: {2, 3, 4, 5, 6, 8, 10}\n",
      "union using|: {-1, -8, -6, -5, -4, -3, -2}\n",
      "union using|: {'BNW', 'swift', 'breeza', 'alto', 'volvo', 'xuv', 'audi'}\n",
      "union using|: {0.1, 2.3, 3.7, 4.8, 3.2, 4.5, 7.6, 9.2}\n"
     ]
    }
   ],
   "source": [
    "#set operation\n",
    "#1.union of two sets\n",
    "a={2,4,6,8,10}\n",
    "b={3,2,4,6,5,8,}\n",
    "c={-1,-2,-3,-4,-5}\n",
    "d={-2,-4,-1,-6,-8}\n",
    "e={\"swift\",\"audi\",\"BNW\",\"volvo\",\"xuv\"}\n",
    "f={\"audi\",\"xuv\",\"alto\",\"breeza\"}\n",
    "g={0.1,2.3,7.6,4.8,9.2,3.7}\n",
    "h={2.3,4.5,0.1,3.2,9.2}\n",
    "print('union using|:',a|b)\n",
    "print('union using|:',c|d)\n",
    "print('union using|:',e|f)\n",
    "print('union using|:',g|h)\n"
   ]
  },
  {
   "cell_type": "code",
   "execution_count": 27,
   "id": "48b7ea4a-8592-40cb-9d37-cae9e0251941",
   "metadata": {},
   "outputs": [
    {
     "name": "stdout",
     "output_type": "stream",
     "text": [
      "Intersection using&: {8, 2, 4, 6}\n",
      "Intersection using&: {-4, -1, -2}\n",
      "Intersection using&: {'xuv', 'audi'}\n",
      "Intersection using&: {0.1, 9.2, 2.3}\n"
     ]
    }
   ],
   "source": [
    "#2.Intersection of two sets\n",
    "a={2,4,6,8,10}\n",
    "b={3,2,4,6,5,8,}\n",
    "c={-1,-2,-3,-4,-5}\n",
    "d={-2,-4,-1,-6,-8}\n",
    "e={\"swift\",\"audi\",\"BNW\",\"volvo\",\"xuv\"}\n",
    "f={\"audi\",\"xuv\",\"alto\",\"breeza\"}\n",
    "g={0.1,2.3,7.6,4.8,9.2,3.7}\n",
    "h={2.3,4.5,0.1,3.2,9.2}\n",
    "print('Intersection using&:',a&b)\n",
    "print('Intersection using&:',c&d)\n",
    "print('Intersection using&:',e&f)\n",
    "print('Intersection using&:',g&h)"
   ]
  },
  {
   "cell_type": "code",
   "execution_count": 29,
   "id": "3b6578e2-4d01-42fd-81b1-e80d522bc774",
   "metadata": {},
   "outputs": [
    {
     "name": "stdout",
     "output_type": "stream",
     "text": [
      "difference using-: {10}\n",
      "difference using-: {-5, -3}\n",
      "difference using-: {'swift', 'volvo', 'BNW'}\n",
      "difference using-: {3.7, 4.8, 7.6}\n"
     ]
    }
   ],
   "source": [
    "#3.difference between two sets\n",
    "a={2,4,6,8,10}\n",
    "b={3,2,4,6,5,8,}\n",
    "c={-1,-2,-3,-4,-5}\n",
    "d={-2,-4,-1,-6,-8}\n",
    "e={\"swift\",\"audi\",\"BNW\",\"volvo\",\"xuv\"}\n",
    "f={\"audi\",\"xuv\",\"alto\",\"breeza\"}\n",
    "g={0.1,2.3,7.6,4.8,9.2,3.7}\n",
    "h={2.3,4.5,0.1,3.2,9.2}\n",
    "print('difference using-:',a-b)\n",
    "print('difference using-:',c-d)\n",
    "print('difference using-:',e-f)\n",
    "print('difference using-:',g-h)\n"
   ]
  },
  {
   "cell_type": "code",
   "execution_count": 31,
   "id": "1a2288f4-e7c9-401b-961d-643532c9256b",
   "metadata": {},
   "outputs": [
    {
     "name": "stdout",
     "output_type": "stream",
     "text": [
      "using^: {3, 5, 10}\n",
      "using^: {-8, -6, -5, -3}\n",
      "using^: {'BNW', 'swift', 'breeza', 'alto', 'volvo'}\n",
      "using^: {3.2, 4.5, 3.7, 4.8, 7.6}\n"
     ]
    }
   ],
   "source": [
    "#4.set symmetric difference\n",
    "a={2,4,6,8,10}\n",
    "b={3,2,4,6,5,8,}\n",
    "c={-1,-2,-3,-4,-5}\n",
    "d={-2,-4,-1,-6,-8}\n",
    "e={\"swift\",\"audi\",\"BNW\",\"volvo\",\"xuv\"}\n",
    "f={\"audi\",\"xuv\",\"alto\",\"breeza\"}\n",
    "g={0.1,2.3,7.6,4.8,9.2,3.7}\n",
    "h={2.3,4.5,0.1,3.2,9.2}\n",
    "print('using^:',a^b)\n",
    "print('using^:',c^d)\n",
    "print('using^:',e^f)\n",
    "print('using^:',g^h)"
   ]
  },
  {
   "cell_type": "code",
   "execution_count": 33,
   "id": "dba34dd5-e5fa-4421-a36c-13157de7193b",
   "metadata": {},
   "outputs": [
    {
     "name": "stdout",
     "output_type": "stream",
     "text": [
      "union using|: {2, 3, 4, 5, 6, 8, 10, -1, -5, -4, -3, -2}\n",
      "union using|: {'BNW', 'swift', 'breeza', 'alto', 'volvo', -2, 'audi', -8, 'xuv', -6, -4, -1}\n",
      "intersection using&: set()\n",
      "intersection using&: set()\n",
      "difference using-: {2, 3, 4, 5, 6, 8}\n",
      "difference using-: {2, 4, 6, 8, 10}\n",
      "using^: {0.1, 2, 2.3, 4, 3.7, 6, 4.8, 8, 7.6, 10, 'breeza', 9.2, 'alto', 'xuv', 'audi'}\n",
      "using^: {2, 3, 4, 5, 6, 8, -8, -6, -5, -3}\n"
     ]
    }
   ],
   "source": [
    "#Here we are applying for three sets\n",
    "a={2,4,6,8,10}\n",
    "b={3,2,4,6,5,8,}\n",
    "c={-1,-2,-3,-4,-5}\n",
    "d={-2,-4,-1,-6,-8}\n",
    "e={\"swift\",\"audi\",\"BNW\",\"volvo\",\"xuv\"}\n",
    "f={\"audi\",\"xuv\",\"alto\",\"breeza\"}\n",
    "g={0.1,2.3,7.6,4.8,9.2,3.7}\n",
    "h={2.3,4.5,0.1,3.2,9.2}\n",
    "print('union using|:',a|b|c)\n",
    "print('union using|:',d|e|f)\n",
    "print('intersection using&:',a&b&g)\n",
    "print('intersection using&:',f&e&c)\n",
    "print('difference using-:',b-e-d)\n",
    "print('difference using-:',a-g-h)\n",
    "print('using^:',f^g^a)\n",
    "print('using^:',b^d^c)"
   ]
  },
  {
   "cell_type": "code",
   "execution_count": null,
   "id": "b9f4c218-754f-4f52-bca9-4d481f51df57",
   "metadata": {},
   "outputs": [],
   "source": []
  }
 ],
 "metadata": {
  "kernelspec": {
   "display_name": "Python 3 (ipykernel)",
   "language": "python",
   "name": "python3"
  },
  "language_info": {
   "codemirror_mode": {
    "name": "ipython",
    "version": 3
   },
   "file_extension": ".py",
   "mimetype": "text/x-python",
   "name": "python",
   "nbconvert_exporter": "python",
   "pygments_lexer": "ipython3",
   "version": "3.12.4"
  }
 },
 "nbformat": 4,
 "nbformat_minor": 5
}
